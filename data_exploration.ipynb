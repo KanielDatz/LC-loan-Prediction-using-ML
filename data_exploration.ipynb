{
  "cells": [
    {
      "cell_type": "markdown",
      "metadata": {
        "id": "view-in-github",
        "colab_type": "text"
      },
      "source": [
        "<a href=\"https://colab.research.google.com/github/KanielDatz/Projects/blob/main/data_exploration.ipynb\" target=\"_parent\"><img src=\"https://colab.research.google.com/assets/colab-badge.svg\" alt=\"Open In Colab\"/></a>"
      ]
    },
    {
      "cell_type": "markdown",
      "source": [
        "## literature and pre-assignment research\n",
        "To better handle the data and build a good model it is important to understand the data source, the porpuse of the model and the busness needs.\n",
        "thus i'll start the assignment in research about the theme.\n",
        "\n",
        "loan landing business rely strongly on risk management.\n",
        "The business has to trade off between two factors -\n",
        "- Increasing the amount of loans given, to increase income.\n",
        "- Decreasing the amount of unreturned loans, to decrease loss of funds.\n",
        "Different business models and approaches where given for the optimization of these two factors.\n",
        "- Credit risk management, scoring systems, risk-dependant interest rate and setra.\n",
        "In this task we want to develop a risk assessment tool, that will help optimize this two factors.\n",
        "for each loan application, we want to be able to predict as good as possible if the applicant will be able to return the loan.\n",
        "By the results of the prediction the lender will be able to assess what are the best loan terms it can fit to the client and which clients should it avoid.\n",
        "\n",
        "# Our data - LendingClub loan Data 2007- 2018\n",
        "LC is a P2P landing platform that operates in the US. It was the first p2p lender to be approved by the SEC.\n",
        "P2P loans are usually medium amount loans (500$-40,000$) for a medium term- 1-2 years.\n",
        "I want cover the business model of p2p landing but it is important to understand there are 3 key stakeholders in this credit landing model.\n",
        "The Bank - LC - is in charge of the verification of the loan applications and the funds handling. LC is also in charge of off charges and insurance of investors money.\n",
        "The investors - They invest the capital for the loan. They are usually mid - class people who seek for a safe investment with good interest.\n",
        "The Loan borrowers - as the caption states, they apply for the loan.\n",
        "\n",
        "Our dataset contains only approved loans, the loan state in the dataset can be -\n",
        "Fully paid: Applicant has fully paid the loan (the principal and the interest rate)\n",
        "Current: Applicant is in the process of paying the instalments, i.e. the tenure of the loan is not yet completed. These candidates are not labelled as 'defaulted'.\n",
        "Charged-off: Applicant has not paid the instalments in due time for a long period of time, i.e. he/she has defaulted on the loan\n",
        "defaulted: defaulted.\n",
        "\n",
        "our goal is to be able to be able to distinguish between the 'fully paid' samples and the others. based **only** on data provided on the day of the loan application.\n",
        "\n",
        "\n",
        "literature:\n",
        "https://www.sciencedirect.com/science/article/pii/S1877050919320277\n",
        "https://www.kaggle.com/code/faressayah/lending-club-loan-defaulters-prediction\n",
        "https://youtu.be/KiArLTBAfkc\n",
        "https://www.businesswire.com/news/home/20180228005249/en/For-African-Americans-Credit-is-Tough-No-Matter-Their-Credit-Score\n",
        "\n"
      ],
      "metadata": {
        "collapsed": false,
        "id": "PhQEAkvQ50TA"
      }
    },
    {
      "cell_type": "code",
      "execution_count": 21,
      "metadata": {
        "collapsed": true,
        "colab": {
          "base_uri": "https://localhost:8080/",
          "height": 130
        },
        "id": "O0CV3M0E50TC",
        "outputId": "669be4e5-35f8-45aa-f36a-3ecfd383e0e2"
      },
      "outputs": [
        {
          "output_type": "error",
          "ename": "SyntaxError",
          "evalue": "ignored",
          "traceback": [
            "\u001b[0;36m  File \u001b[0;32m\"<ipython-input-21-3b0d9e9db2db>\"\u001b[0;36m, line \u001b[0;32m1\u001b[0m\n\u001b[0;31m    pip install scikit-optimize\u001b[0m\n\u001b[0m        ^\u001b[0m\n\u001b[0;31mSyntaxError\u001b[0m\u001b[0;31m:\u001b[0m invalid syntax\n"
          ]
        }
      ],
      "source": [
        "pip install scikit-optimize\n",
        "import pandas as pd\n",
        "import numpy as np\n",
        "from skopt import BayesSearchCV\n",
        "from sklearn.ensemble import RandomForestClassifier\n",
        "import xgboost as xgb\n",
        "import openpyxl\n",
        "from sklearn.model_selection import train_test_split\n",
        "from sklearn.preprocessing import StandardScaler\n",
        "from sklearn.model_selection import RepeatedStratifiedKFold\n",
        "from sklearn.metrics import roc_auc_score\n",
        "from pandas.plotting import scatter_matrix\n",
        "from sklearn.svm import SVC\n",
        "from sklearn.model_selection import GridSearchCV\n",
        "import matplotlib.pyplot as plt\n",
        "from sklearn.impute import KNNImputer\n",
        "from sklearn.model_selection import StratifiedKFold\n",
        "from sklearn.model_selection import train_test_split\n",
        "from sklearn.preprocessing import StandardScaler\n",
        "from sklearn.linear_model import LogisticRegression\n",
        "from sklearn.pipeline import Pipeline\n",
        "from sklearn.decomposition import PCA\n",
        "from sklearn.metrics import confusion_matrix, plot_confusion_matrix, roc_auc_score\n",
        "import seaborn as sns\n",
        "import datetime\n",
        "\n",
        "from sklearn.ensemble import RandomForestClassifier\n",
        "from sklearn.metrics import plot_roc_curve"
      ]
    },
    {
      "cell_type": "markdown",
      "source": [
        "All the imports needed for the project:"
      ],
      "metadata": {
        "collapsed": false,
        "id": "O4qCDVdE50TE"
      }
    },
    {
      "cell_type": "markdown",
      "source": [
        "Importing the data and the dictionary:\n",
        "air pulution."
      ],
      "metadata": {
        "collapsed": false,
        "id": "2mMXVIZi50TE"
      }
    },
    {
      "cell_type": "code",
      "execution_count": 22,
      "outputs": [],
      "source": [
        "\n",
        "df = pd.read_csv(\"loan-dataset.csv\", low_memory=False) #we will work with this Dataframe\n",
        "df_copy = df.copy(deep=True) #we make a copy of the original Data Frame to use it if needed instead of reloading the data again.\n",
        "feature_dict = pd.read_excel('loan-data-dictionary.xlsx', sheet_name=0)\n",
        "feature_dict =  feature_dict.set_index('LoanStatNew').to_dict().get('Description')\n"
      ],
      "metadata": {
        "id": "mV9Itpev50TF"
      }
    },
    {
      "cell_type": "code",
      "execution_count": 23,
      "outputs": [],
      "source": [
        "#df = df_copy.copy(deep=True)"
      ],
      "metadata": {
        "id": "88IQ2Ng350TF"
      }
    },
    {
      "cell_type": "markdown",
      "source": [
        "let's take a first glance at the data:"
      ],
      "metadata": {
        "collapsed": false,
        "id": "ggCWb0c550TF"
      }
    },
    {
      "cell_type": "code",
      "execution_count": 24,
      "outputs": [
        {
          "output_type": "execute_result",
          "data": {
            "text/plain": [
              "        id  member_id  loan_amnt  funded_amnt  funded_amnt_inv        term  \\\n",
              "58222  NaN        NaN      16000        16000          16000.0   60 months   \n",
              "57600  NaN        NaN      10000        10000          10000.0   36 months   \n",
              "22320  NaN        NaN      24000        24000          24000.0   60 months   \n",
              "41355  NaN        NaN      15000        15000          15000.0   60 months   \n",
              "141648 NaN        NaN       4325         4325           4325.0   36 months   \n",
              "185120 NaN        NaN       8000         8000           8000.0   36 months   \n",
              "149450 NaN        NaN       5000         5000           5000.0   36 months   \n",
              "151879 NaN        NaN       7000         7000           7000.0   36 months   \n",
              "180673 NaN        NaN      17000        17000          17000.0   36 months   \n",
              "195868 NaN        NaN      15000        15000          15000.0   36 months   \n",
              "\n",
              "        int_rate  installment grade sub_grade  ...  \\\n",
              "58222      12.98       363.89     B        B5  ...   \n",
              "57600      11.80       331.19     B        B4  ...   \n",
              "22320      11.80       531.45     B        B4  ...   \n",
              "41355       8.19       305.52     A        A4  ...   \n",
              "141648     13.56       146.90     C        C1  ...   \n",
              "185120     16.91       284.87     C        C5  ...   \n",
              "149450      6.67       153.64     A        A2  ...   \n",
              "151879     13.56       237.76     C        C1  ...   \n",
              "180673     23.40       661.62     E        E1  ...   \n",
              "195868     24.37       591.42     E        E2  ...   \n",
              "\n",
              "       hardship_payoff_balance_amount hardship_last_payment_amount  \\\n",
              "58222                             NaN                          NaN   \n",
              "57600                             NaN                          NaN   \n",
              "22320                             NaN                          NaN   \n",
              "41355                             NaN                          NaN   \n",
              "141648                            NaN                          NaN   \n",
              "185120                            NaN                          NaN   \n",
              "149450                            NaN                          NaN   \n",
              "151879                            NaN                          NaN   \n",
              "180673                            NaN                          NaN   \n",
              "195868                            NaN                          NaN   \n",
              "\n",
              "       disbursement_method  debt_settlement_flag debt_settlement_flag_date  \\\n",
              "58222                 Cash                     N                       NaN   \n",
              "57600                 Cash                     N                       NaN   \n",
              "22320                 Cash                     N                       NaN   \n",
              "41355            DirectPay                     N                       NaN   \n",
              "141648                Cash                     N                       NaN   \n",
              "185120                Cash                     N                       NaN   \n",
              "149450                Cash                     N                       NaN   \n",
              "151879                Cash                     N                       NaN   \n",
              "180673                Cash                     N                       NaN   \n",
              "195868                Cash                     N                       NaN   \n",
              "\n",
              "       settlement_status settlement_date settlement_amount  \\\n",
              "58222                NaN             NaN               NaN   \n",
              "57600                NaN             NaN               NaN   \n",
              "22320                NaN             NaN               NaN   \n",
              "41355                NaN             NaN               NaN   \n",
              "141648               NaN             NaN               NaN   \n",
              "185120               NaN             NaN               NaN   \n",
              "149450               NaN             NaN               NaN   \n",
              "151879               NaN             NaN               NaN   \n",
              "180673               NaN             NaN               NaN   \n",
              "195868               NaN             NaN               NaN   \n",
              "\n",
              "        settlement_percentage  settlement_term  \n",
              "58222                     NaN              NaN  \n",
              "57600                     NaN              NaN  \n",
              "22320                     NaN              NaN  \n",
              "41355                     NaN              NaN  \n",
              "141648                    NaN              NaN  \n",
              "185120                    NaN              NaN  \n",
              "149450                    NaN              NaN  \n",
              "151879                    NaN              NaN  \n",
              "180673                    NaN              NaN  \n",
              "195868                    NaN              NaN  \n",
              "\n",
              "[10 rows x 145 columns]"
            ],
            "text/html": [
              "\n",
              "  <div id=\"df-2c4e6f62-d3c8-48ad-b7f0-768373282972\">\n",
              "    <div class=\"colab-df-container\">\n",
              "      <div>\n",
              "<style scoped>\n",
              "    .dataframe tbody tr th:only-of-type {\n",
              "        vertical-align: middle;\n",
              "    }\n",
              "\n",
              "    .dataframe tbody tr th {\n",
              "        vertical-align: top;\n",
              "    }\n",
              "\n",
              "    .dataframe thead th {\n",
              "        text-align: right;\n",
              "    }\n",
              "</style>\n",
              "<table border=\"1\" class=\"dataframe\">\n",
              "  <thead>\n",
              "    <tr style=\"text-align: right;\">\n",
              "      <th></th>\n",
              "      <th>id</th>\n",
              "      <th>member_id</th>\n",
              "      <th>loan_amnt</th>\n",
              "      <th>funded_amnt</th>\n",
              "      <th>funded_amnt_inv</th>\n",
              "      <th>term</th>\n",
              "      <th>int_rate</th>\n",
              "      <th>installment</th>\n",
              "      <th>grade</th>\n",
              "      <th>sub_grade</th>\n",
              "      <th>...</th>\n",
              "      <th>hardship_payoff_balance_amount</th>\n",
              "      <th>hardship_last_payment_amount</th>\n",
              "      <th>disbursement_method</th>\n",
              "      <th>debt_settlement_flag</th>\n",
              "      <th>debt_settlement_flag_date</th>\n",
              "      <th>settlement_status</th>\n",
              "      <th>settlement_date</th>\n",
              "      <th>settlement_amount</th>\n",
              "      <th>settlement_percentage</th>\n",
              "      <th>settlement_term</th>\n",
              "    </tr>\n",
              "  </thead>\n",
              "  <tbody>\n",
              "    <tr>\n",
              "      <th>58222</th>\n",
              "      <td>NaN</td>\n",
              "      <td>NaN</td>\n",
              "      <td>16000</td>\n",
              "      <td>16000</td>\n",
              "      <td>16000.0</td>\n",
              "      <td>60 months</td>\n",
              "      <td>12.98</td>\n",
              "      <td>363.89</td>\n",
              "      <td>B</td>\n",
              "      <td>B5</td>\n",
              "      <td>...</td>\n",
              "      <td>NaN</td>\n",
              "      <td>NaN</td>\n",
              "      <td>Cash</td>\n",
              "      <td>N</td>\n",
              "      <td>NaN</td>\n",
              "      <td>NaN</td>\n",
              "      <td>NaN</td>\n",
              "      <td>NaN</td>\n",
              "      <td>NaN</td>\n",
              "      <td>NaN</td>\n",
              "    </tr>\n",
              "    <tr>\n",
              "      <th>57600</th>\n",
              "      <td>NaN</td>\n",
              "      <td>NaN</td>\n",
              "      <td>10000</td>\n",
              "      <td>10000</td>\n",
              "      <td>10000.0</td>\n",
              "      <td>36 months</td>\n",
              "      <td>11.80</td>\n",
              "      <td>331.19</td>\n",
              "      <td>B</td>\n",
              "      <td>B4</td>\n",
              "      <td>...</td>\n",
              "      <td>NaN</td>\n",
              "      <td>NaN</td>\n",
              "      <td>Cash</td>\n",
              "      <td>N</td>\n",
              "      <td>NaN</td>\n",
              "      <td>NaN</td>\n",
              "      <td>NaN</td>\n",
              "      <td>NaN</td>\n",
              "      <td>NaN</td>\n",
              "      <td>NaN</td>\n",
              "    </tr>\n",
              "    <tr>\n",
              "      <th>22320</th>\n",
              "      <td>NaN</td>\n",
              "      <td>NaN</td>\n",
              "      <td>24000</td>\n",
              "      <td>24000</td>\n",
              "      <td>24000.0</td>\n",
              "      <td>60 months</td>\n",
              "      <td>11.80</td>\n",
              "      <td>531.45</td>\n",
              "      <td>B</td>\n",
              "      <td>B4</td>\n",
              "      <td>...</td>\n",
              "      <td>NaN</td>\n",
              "      <td>NaN</td>\n",
              "      <td>Cash</td>\n",
              "      <td>N</td>\n",
              "      <td>NaN</td>\n",
              "      <td>NaN</td>\n",
              "      <td>NaN</td>\n",
              "      <td>NaN</td>\n",
              "      <td>NaN</td>\n",
              "      <td>NaN</td>\n",
              "    </tr>\n",
              "    <tr>\n",
              "      <th>41355</th>\n",
              "      <td>NaN</td>\n",
              "      <td>NaN</td>\n",
              "      <td>15000</td>\n",
              "      <td>15000</td>\n",
              "      <td>15000.0</td>\n",
              "      <td>60 months</td>\n",
              "      <td>8.19</td>\n",
              "      <td>305.52</td>\n",
              "      <td>A</td>\n",
              "      <td>A4</td>\n",
              "      <td>...</td>\n",
              "      <td>NaN</td>\n",
              "      <td>NaN</td>\n",
              "      <td>DirectPay</td>\n",
              "      <td>N</td>\n",
              "      <td>NaN</td>\n",
              "      <td>NaN</td>\n",
              "      <td>NaN</td>\n",
              "      <td>NaN</td>\n",
              "      <td>NaN</td>\n",
              "      <td>NaN</td>\n",
              "    </tr>\n",
              "    <tr>\n",
              "      <th>141648</th>\n",
              "      <td>NaN</td>\n",
              "      <td>NaN</td>\n",
              "      <td>4325</td>\n",
              "      <td>4325</td>\n",
              "      <td>4325.0</td>\n",
              "      <td>36 months</td>\n",
              "      <td>13.56</td>\n",
              "      <td>146.90</td>\n",
              "      <td>C</td>\n",
              "      <td>C1</td>\n",
              "      <td>...</td>\n",
              "      <td>NaN</td>\n",
              "      <td>NaN</td>\n",
              "      <td>Cash</td>\n",
              "      <td>N</td>\n",
              "      <td>NaN</td>\n",
              "      <td>NaN</td>\n",
              "      <td>NaN</td>\n",
              "      <td>NaN</td>\n",
              "      <td>NaN</td>\n",
              "      <td>NaN</td>\n",
              "    </tr>\n",
              "    <tr>\n",
              "      <th>185120</th>\n",
              "      <td>NaN</td>\n",
              "      <td>NaN</td>\n",
              "      <td>8000</td>\n",
              "      <td>8000</td>\n",
              "      <td>8000.0</td>\n",
              "      <td>36 months</td>\n",
              "      <td>16.91</td>\n",
              "      <td>284.87</td>\n",
              "      <td>C</td>\n",
              "      <td>C5</td>\n",
              "      <td>...</td>\n",
              "      <td>NaN</td>\n",
              "      <td>NaN</td>\n",
              "      <td>Cash</td>\n",
              "      <td>N</td>\n",
              "      <td>NaN</td>\n",
              "      <td>NaN</td>\n",
              "      <td>NaN</td>\n",
              "      <td>NaN</td>\n",
              "      <td>NaN</td>\n",
              "      <td>NaN</td>\n",
              "    </tr>\n",
              "    <tr>\n",
              "      <th>149450</th>\n",
              "      <td>NaN</td>\n",
              "      <td>NaN</td>\n",
              "      <td>5000</td>\n",
              "      <td>5000</td>\n",
              "      <td>5000.0</td>\n",
              "      <td>36 months</td>\n",
              "      <td>6.67</td>\n",
              "      <td>153.64</td>\n",
              "      <td>A</td>\n",
              "      <td>A2</td>\n",
              "      <td>...</td>\n",
              "      <td>NaN</td>\n",
              "      <td>NaN</td>\n",
              "      <td>Cash</td>\n",
              "      <td>N</td>\n",
              "      <td>NaN</td>\n",
              "      <td>NaN</td>\n",
              "      <td>NaN</td>\n",
              "      <td>NaN</td>\n",
              "      <td>NaN</td>\n",
              "      <td>NaN</td>\n",
              "    </tr>\n",
              "    <tr>\n",
              "      <th>151879</th>\n",
              "      <td>NaN</td>\n",
              "      <td>NaN</td>\n",
              "      <td>7000</td>\n",
              "      <td>7000</td>\n",
              "      <td>7000.0</td>\n",
              "      <td>36 months</td>\n",
              "      <td>13.56</td>\n",
              "      <td>237.76</td>\n",
              "      <td>C</td>\n",
              "      <td>C1</td>\n",
              "      <td>...</td>\n",
              "      <td>NaN</td>\n",
              "      <td>NaN</td>\n",
              "      <td>Cash</td>\n",
              "      <td>N</td>\n",
              "      <td>NaN</td>\n",
              "      <td>NaN</td>\n",
              "      <td>NaN</td>\n",
              "      <td>NaN</td>\n",
              "      <td>NaN</td>\n",
              "      <td>NaN</td>\n",
              "    </tr>\n",
              "    <tr>\n",
              "      <th>180673</th>\n",
              "      <td>NaN</td>\n",
              "      <td>NaN</td>\n",
              "      <td>17000</td>\n",
              "      <td>17000</td>\n",
              "      <td>17000.0</td>\n",
              "      <td>36 months</td>\n",
              "      <td>23.40</td>\n",
              "      <td>661.62</td>\n",
              "      <td>E</td>\n",
              "      <td>E1</td>\n",
              "      <td>...</td>\n",
              "      <td>NaN</td>\n",
              "      <td>NaN</td>\n",
              "      <td>Cash</td>\n",
              "      <td>N</td>\n",
              "      <td>NaN</td>\n",
              "      <td>NaN</td>\n",
              "      <td>NaN</td>\n",
              "      <td>NaN</td>\n",
              "      <td>NaN</td>\n",
              "      <td>NaN</td>\n",
              "    </tr>\n",
              "    <tr>\n",
              "      <th>195868</th>\n",
              "      <td>NaN</td>\n",
              "      <td>NaN</td>\n",
              "      <td>15000</td>\n",
              "      <td>15000</td>\n",
              "      <td>15000.0</td>\n",
              "      <td>36 months</td>\n",
              "      <td>24.37</td>\n",
              "      <td>591.42</td>\n",
              "      <td>E</td>\n",
              "      <td>E2</td>\n",
              "      <td>...</td>\n",
              "      <td>NaN</td>\n",
              "      <td>NaN</td>\n",
              "      <td>Cash</td>\n",
              "      <td>N</td>\n",
              "      <td>NaN</td>\n",
              "      <td>NaN</td>\n",
              "      <td>NaN</td>\n",
              "      <td>NaN</td>\n",
              "      <td>NaN</td>\n",
              "      <td>NaN</td>\n",
              "    </tr>\n",
              "  </tbody>\n",
              "</table>\n",
              "<p>10 rows × 145 columns</p>\n",
              "</div>\n",
              "      <button class=\"colab-df-convert\" onclick=\"convertToInteractive('df-2c4e6f62-d3c8-48ad-b7f0-768373282972')\"\n",
              "              title=\"Convert this dataframe to an interactive table.\"\n",
              "              style=\"display:none;\">\n",
              "        \n",
              "  <svg xmlns=\"http://www.w3.org/2000/svg\" height=\"24px\"viewBox=\"0 0 24 24\"\n",
              "       width=\"24px\">\n",
              "    <path d=\"M0 0h24v24H0V0z\" fill=\"none\"/>\n",
              "    <path d=\"M18.56 5.44l.94 2.06.94-2.06 2.06-.94-2.06-.94-.94-2.06-.94 2.06-2.06.94zm-11 1L8.5 8.5l.94-2.06 2.06-.94-2.06-.94L8.5 2.5l-.94 2.06-2.06.94zm10 10l.94 2.06.94-2.06 2.06-.94-2.06-.94-.94-2.06-.94 2.06-2.06.94z\"/><path d=\"M17.41 7.96l-1.37-1.37c-.4-.4-.92-.59-1.43-.59-.52 0-1.04.2-1.43.59L10.3 9.45l-7.72 7.72c-.78.78-.78 2.05 0 2.83L4 21.41c.39.39.9.59 1.41.59.51 0 1.02-.2 1.41-.59l7.78-7.78 2.81-2.81c.8-.78.8-2.07 0-2.86zM5.41 20L4 18.59l7.72-7.72 1.47 1.35L5.41 20z\"/>\n",
              "  </svg>\n",
              "      </button>\n",
              "      \n",
              "  <style>\n",
              "    .colab-df-container {\n",
              "      display:flex;\n",
              "      flex-wrap:wrap;\n",
              "      gap: 12px;\n",
              "    }\n",
              "\n",
              "    .colab-df-convert {\n",
              "      background-color: #E8F0FE;\n",
              "      border: none;\n",
              "      border-radius: 50%;\n",
              "      cursor: pointer;\n",
              "      display: none;\n",
              "      fill: #1967D2;\n",
              "      height: 32px;\n",
              "      padding: 0 0 0 0;\n",
              "      width: 32px;\n",
              "    }\n",
              "\n",
              "    .colab-df-convert:hover {\n",
              "      background-color: #E2EBFA;\n",
              "      box-shadow: 0px 1px 2px rgba(60, 64, 67, 0.3), 0px 1px 3px 1px rgba(60, 64, 67, 0.15);\n",
              "      fill: #174EA6;\n",
              "    }\n",
              "\n",
              "    [theme=dark] .colab-df-convert {\n",
              "      background-color: #3B4455;\n",
              "      fill: #D2E3FC;\n",
              "    }\n",
              "\n",
              "    [theme=dark] .colab-df-convert:hover {\n",
              "      background-color: #434B5C;\n",
              "      box-shadow: 0px 1px 3px 1px rgba(0, 0, 0, 0.15);\n",
              "      filter: drop-shadow(0px 1px 2px rgba(0, 0, 0, 0.3));\n",
              "      fill: #FFFFFF;\n",
              "    }\n",
              "  </style>\n",
              "\n",
              "      <script>\n",
              "        const buttonEl =\n",
              "          document.querySelector('#df-2c4e6f62-d3c8-48ad-b7f0-768373282972 button.colab-df-convert');\n",
              "        buttonEl.style.display =\n",
              "          google.colab.kernel.accessAllowed ? 'block' : 'none';\n",
              "\n",
              "        async function convertToInteractive(key) {\n",
              "          const element = document.querySelector('#df-2c4e6f62-d3c8-48ad-b7f0-768373282972');\n",
              "          const dataTable =\n",
              "            await google.colab.kernel.invokeFunction('convertToInteractive',\n",
              "                                                     [key], {});\n",
              "          if (!dataTable) return;\n",
              "\n",
              "          const docLinkHtml = 'Like what you see? Visit the ' +\n",
              "            '<a target=\"_blank\" href=https://colab.research.google.com/notebooks/data_table.ipynb>data table notebook</a>'\n",
              "            + ' to learn more about interactive tables.';\n",
              "          element.innerHTML = '';\n",
              "          dataTable['output_type'] = 'display_data';\n",
              "          await google.colab.output.renderOutput(dataTable, element);\n",
              "          const docLink = document.createElement('div');\n",
              "          docLink.innerHTML = docLinkHtml;\n",
              "          element.appendChild(docLink);\n",
              "        }\n",
              "      </script>\n",
              "    </div>\n",
              "  </div>\n",
              "  "
            ]
          },
          "metadata": {},
          "execution_count": 24
        }
      ],
      "source": [
        "df.sample(10)"
      ],
      "metadata": {
        "colab": {
          "base_uri": "https://localhost:8080/",
          "height": 630
        },
        "id": "9JgC-yGg50TF",
        "outputId": "41cfc63f-7431-48fa-f70a-fbb27277d1d4"
      }
    },
    {
      "cell_type": "code",
      "execution_count": 25,
      "outputs": [
        {
          "output_type": "execute_result",
          "data": {
            "text/plain": [
              "                                   count          mean           std     min  \\\n",
              "id                                   0.0           NaN           NaN     NaN   \n",
              "member_id                            0.0           NaN           NaN     NaN   \n",
              "loan_amnt                       213052.0  16042.923441  10129.068428  1000.0   \n",
              "funded_amnt                     213052.0  16042.923441  10129.068428  1000.0   \n",
              "funded_amnt_inv                 213052.0  16039.946757  10129.942187   725.0   \n",
              "...                                  ...           ...           ...     ...   \n",
              "hardship_payoff_balance_amount       8.0  18450.773750  10149.969227  8096.8   \n",
              "hardship_last_payment_amount         8.0    269.663750    366.044819     0.1   \n",
              "settlement_amount                    9.0   9103.444444   6980.322828  1059.0   \n",
              "settlement_percentage                9.0     64.442222      1.665869    60.0   \n",
              "settlement_term                      9.0     16.666667      4.000000     6.0   \n",
              "\n",
              "                                      25%       50%        75%       max  \n",
              "id                                    NaN       NaN        NaN       NaN  \n",
              "member_id                             NaN       NaN        NaN       NaN  \n",
              "loan_amnt                        8200.000  14000.00  22000.000  40000.00  \n",
              "funded_amnt                      8200.000  14000.00  22000.000  40000.00  \n",
              "funded_amnt_inv                  8200.000  14000.00  22000.000  40000.00  \n",
              "...                                   ...       ...        ...       ...  \n",
              "hardship_payoff_balance_amount  11938.370  17211.81  20393.985  40149.35  \n",
              "hardship_last_payment_amount        0.805    147.02    377.355   1045.41  \n",
              "settlement_amount                5180.000   5694.00  13175.000  23506.00  \n",
              "settlement_percentage              65.000     65.00     65.000     65.01  \n",
              "settlement_term                    18.000     18.00     18.000     18.00  \n",
              "\n",
              "[110 rows x 8 columns]"
            ],
            "text/html": [
              "\n",
              "  <div id=\"df-2e32819c-7ce1-4963-9105-2e21a83440bb\">\n",
              "    <div class=\"colab-df-container\">\n",
              "      <div>\n",
              "<style scoped>\n",
              "    .dataframe tbody tr th:only-of-type {\n",
              "        vertical-align: middle;\n",
              "    }\n",
              "\n",
              "    .dataframe tbody tr th {\n",
              "        vertical-align: top;\n",
              "    }\n",
              "\n",
              "    .dataframe thead th {\n",
              "        text-align: right;\n",
              "    }\n",
              "</style>\n",
              "<table border=\"1\" class=\"dataframe\">\n",
              "  <thead>\n",
              "    <tr style=\"text-align: right;\">\n",
              "      <th></th>\n",
              "      <th>count</th>\n",
              "      <th>mean</th>\n",
              "      <th>std</th>\n",
              "      <th>min</th>\n",
              "      <th>25%</th>\n",
              "      <th>50%</th>\n",
              "      <th>75%</th>\n",
              "      <th>max</th>\n",
              "    </tr>\n",
              "  </thead>\n",
              "  <tbody>\n",
              "    <tr>\n",
              "      <th>id</th>\n",
              "      <td>0.0</td>\n",
              "      <td>NaN</td>\n",
              "      <td>NaN</td>\n",
              "      <td>NaN</td>\n",
              "      <td>NaN</td>\n",
              "      <td>NaN</td>\n",
              "      <td>NaN</td>\n",
              "      <td>NaN</td>\n",
              "    </tr>\n",
              "    <tr>\n",
              "      <th>member_id</th>\n",
              "      <td>0.0</td>\n",
              "      <td>NaN</td>\n",
              "      <td>NaN</td>\n",
              "      <td>NaN</td>\n",
              "      <td>NaN</td>\n",
              "      <td>NaN</td>\n",
              "      <td>NaN</td>\n",
              "      <td>NaN</td>\n",
              "    </tr>\n",
              "    <tr>\n",
              "      <th>loan_amnt</th>\n",
              "      <td>213052.0</td>\n",
              "      <td>16042.923441</td>\n",
              "      <td>10129.068428</td>\n",
              "      <td>1000.0</td>\n",
              "      <td>8200.000</td>\n",
              "      <td>14000.00</td>\n",
              "      <td>22000.000</td>\n",
              "      <td>40000.00</td>\n",
              "    </tr>\n",
              "    <tr>\n",
              "      <th>funded_amnt</th>\n",
              "      <td>213052.0</td>\n",
              "      <td>16042.923441</td>\n",
              "      <td>10129.068428</td>\n",
              "      <td>1000.0</td>\n",
              "      <td>8200.000</td>\n",
              "      <td>14000.00</td>\n",
              "      <td>22000.000</td>\n",
              "      <td>40000.00</td>\n",
              "    </tr>\n",
              "    <tr>\n",
              "      <th>funded_amnt_inv</th>\n",
              "      <td>213052.0</td>\n",
              "      <td>16039.946757</td>\n",
              "      <td>10129.942187</td>\n",
              "      <td>725.0</td>\n",
              "      <td>8200.000</td>\n",
              "      <td>14000.00</td>\n",
              "      <td>22000.000</td>\n",
              "      <td>40000.00</td>\n",
              "    </tr>\n",
              "    <tr>\n",
              "      <th>...</th>\n",
              "      <td>...</td>\n",
              "      <td>...</td>\n",
              "      <td>...</td>\n",
              "      <td>...</td>\n",
              "      <td>...</td>\n",
              "      <td>...</td>\n",
              "      <td>...</td>\n",
              "      <td>...</td>\n",
              "    </tr>\n",
              "    <tr>\n",
              "      <th>hardship_payoff_balance_amount</th>\n",
              "      <td>8.0</td>\n",
              "      <td>18450.773750</td>\n",
              "      <td>10149.969227</td>\n",
              "      <td>8096.8</td>\n",
              "      <td>11938.370</td>\n",
              "      <td>17211.81</td>\n",
              "      <td>20393.985</td>\n",
              "      <td>40149.35</td>\n",
              "    </tr>\n",
              "    <tr>\n",
              "      <th>hardship_last_payment_amount</th>\n",
              "      <td>8.0</td>\n",
              "      <td>269.663750</td>\n",
              "      <td>366.044819</td>\n",
              "      <td>0.1</td>\n",
              "      <td>0.805</td>\n",
              "      <td>147.02</td>\n",
              "      <td>377.355</td>\n",
              "      <td>1045.41</td>\n",
              "    </tr>\n",
              "    <tr>\n",
              "      <th>settlement_amount</th>\n",
              "      <td>9.0</td>\n",
              "      <td>9103.444444</td>\n",
              "      <td>6980.322828</td>\n",
              "      <td>1059.0</td>\n",
              "      <td>5180.000</td>\n",
              "      <td>5694.00</td>\n",
              "      <td>13175.000</td>\n",
              "      <td>23506.00</td>\n",
              "    </tr>\n",
              "    <tr>\n",
              "      <th>settlement_percentage</th>\n",
              "      <td>9.0</td>\n",
              "      <td>64.442222</td>\n",
              "      <td>1.665869</td>\n",
              "      <td>60.0</td>\n",
              "      <td>65.000</td>\n",
              "      <td>65.00</td>\n",
              "      <td>65.000</td>\n",
              "      <td>65.01</td>\n",
              "    </tr>\n",
              "    <tr>\n",
              "      <th>settlement_term</th>\n",
              "      <td>9.0</td>\n",
              "      <td>16.666667</td>\n",
              "      <td>4.000000</td>\n",
              "      <td>6.0</td>\n",
              "      <td>18.000</td>\n",
              "      <td>18.00</td>\n",
              "      <td>18.000</td>\n",
              "      <td>18.00</td>\n",
              "    </tr>\n",
              "  </tbody>\n",
              "</table>\n",
              "<p>110 rows × 8 columns</p>\n",
              "</div>\n",
              "      <button class=\"colab-df-convert\" onclick=\"convertToInteractive('df-2e32819c-7ce1-4963-9105-2e21a83440bb')\"\n",
              "              title=\"Convert this dataframe to an interactive table.\"\n",
              "              style=\"display:none;\">\n",
              "        \n",
              "  <svg xmlns=\"http://www.w3.org/2000/svg\" height=\"24px\"viewBox=\"0 0 24 24\"\n",
              "       width=\"24px\">\n",
              "    <path d=\"M0 0h24v24H0V0z\" fill=\"none\"/>\n",
              "    <path d=\"M18.56 5.44l.94 2.06.94-2.06 2.06-.94-2.06-.94-.94-2.06-.94 2.06-2.06.94zm-11 1L8.5 8.5l.94-2.06 2.06-.94-2.06-.94L8.5 2.5l-.94 2.06-2.06.94zm10 10l.94 2.06.94-2.06 2.06-.94-2.06-.94-.94-2.06-.94 2.06-2.06.94z\"/><path d=\"M17.41 7.96l-1.37-1.37c-.4-.4-.92-.59-1.43-.59-.52 0-1.04.2-1.43.59L10.3 9.45l-7.72 7.72c-.78.78-.78 2.05 0 2.83L4 21.41c.39.39.9.59 1.41.59.51 0 1.02-.2 1.41-.59l7.78-7.78 2.81-2.81c.8-.78.8-2.07 0-2.86zM5.41 20L4 18.59l7.72-7.72 1.47 1.35L5.41 20z\"/>\n",
              "  </svg>\n",
              "      </button>\n",
              "      \n",
              "  <style>\n",
              "    .colab-df-container {\n",
              "      display:flex;\n",
              "      flex-wrap:wrap;\n",
              "      gap: 12px;\n",
              "    }\n",
              "\n",
              "    .colab-df-convert {\n",
              "      background-color: #E8F0FE;\n",
              "      border: none;\n",
              "      border-radius: 50%;\n",
              "      cursor: pointer;\n",
              "      display: none;\n",
              "      fill: #1967D2;\n",
              "      height: 32px;\n",
              "      padding: 0 0 0 0;\n",
              "      width: 32px;\n",
              "    }\n",
              "\n",
              "    .colab-df-convert:hover {\n",
              "      background-color: #E2EBFA;\n",
              "      box-shadow: 0px 1px 2px rgba(60, 64, 67, 0.3), 0px 1px 3px 1px rgba(60, 64, 67, 0.15);\n",
              "      fill: #174EA6;\n",
              "    }\n",
              "\n",
              "    [theme=dark] .colab-df-convert {\n",
              "      background-color: #3B4455;\n",
              "      fill: #D2E3FC;\n",
              "    }\n",
              "\n",
              "    [theme=dark] .colab-df-convert:hover {\n",
              "      background-color: #434B5C;\n",
              "      box-shadow: 0px 1px 3px 1px rgba(0, 0, 0, 0.15);\n",
              "      filter: drop-shadow(0px 1px 2px rgba(0, 0, 0, 0.3));\n",
              "      fill: #FFFFFF;\n",
              "    }\n",
              "  </style>\n",
              "\n",
              "      <script>\n",
              "        const buttonEl =\n",
              "          document.querySelector('#df-2e32819c-7ce1-4963-9105-2e21a83440bb button.colab-df-convert');\n",
              "        buttonEl.style.display =\n",
              "          google.colab.kernel.accessAllowed ? 'block' : 'none';\n",
              "\n",
              "        async function convertToInteractive(key) {\n",
              "          const element = document.querySelector('#df-2e32819c-7ce1-4963-9105-2e21a83440bb');\n",
              "          const dataTable =\n",
              "            await google.colab.kernel.invokeFunction('convertToInteractive',\n",
              "                                                     [key], {});\n",
              "          if (!dataTable) return;\n",
              "\n",
              "          const docLinkHtml = 'Like what you see? Visit the ' +\n",
              "            '<a target=\"_blank\" href=https://colab.research.google.com/notebooks/data_table.ipynb>data table notebook</a>'\n",
              "            + ' to learn more about interactive tables.';\n",
              "          element.innerHTML = '';\n",
              "          dataTable['output_type'] = 'display_data';\n",
              "          await google.colab.output.renderOutput(dataTable, element);\n",
              "          const docLink = document.createElement('div');\n",
              "          docLink.innerHTML = docLinkHtml;\n",
              "          element.appendChild(docLink);\n",
              "        }\n",
              "      </script>\n",
              "    </div>\n",
              "  </div>\n",
              "  "
            ]
          },
          "metadata": {},
          "execution_count": 25
        }
      ],
      "source": [
        "df.describe().T"
      ],
      "metadata": {
        "colab": {
          "base_uri": "https://localhost:8080/",
          "height": 424
        },
        "id": "r0qjd_2R50TG",
        "outputId": "f27af475-92f4-413d-85bc-4e108d360e04"
      }
    },
    {
      "cell_type": "code",
      "execution_count": 26,
      "outputs": [
        {
          "output_type": "stream",
          "name": "stdout",
          "text": [
            "<class 'pandas.core.frame.DataFrame'>\n",
            "RangeIndex: 213052 entries, 0 to 213051\n",
            "Columns: 145 entries, id to settlement_term\n",
            "dtypes: float64(108), int64(2), object(35)\n",
            "memory usage: 235.7+ MB\n"
          ]
        }
      ],
      "source": [
        "df.info()"
      ],
      "metadata": {
        "colab": {
          "base_uri": "https://localhost:8080/"
        },
        "id": "Qyo8sARC50TG",
        "outputId": "9efb9abe-6b81-44af-9116-c40b35488990"
      }
    },
    {
      "cell_type": "markdown",
      "source": [
        "It looks like there are some columns with a lot of missing values\n",
        "lets see how many Nan values we have"
      ],
      "metadata": {
        "collapsed": false,
        "id": "iFj6Cr8A50TH"
      }
    },
    {
      "cell_type": "code",
      "execution_count": 27,
      "outputs": [
        {
          "output_type": "execute_result",
          "data": {
            "text/plain": [
              "                            % Nan  \\\n",
              "id                     100.000000   \n",
              "member_id              100.000000   \n",
              "loan_amnt                0.000000   \n",
              "funded_amnt              0.000000   \n",
              "funded_amnt_inv          0.000000   \n",
              "...                           ...   \n",
              "settlement_status       99.995776   \n",
              "settlement_date         99.995776   \n",
              "settlement_amount       99.995776   \n",
              "settlement_percentage   99.995776   \n",
              "settlement_term         99.995776   \n",
              "\n",
              "                                                             Description  \n",
              "id                         A unique LC assigned ID for the loan listing.  \n",
              "member_id               A unique LC assigned Id for the borrower member.  \n",
              "loan_amnt              The listed amount of the loan applied for by t...  \n",
              "funded_amnt            The total amount committed to that loan at tha...  \n",
              "funded_amnt_inv        The total amount committed by investors for th...  \n",
              "...                                                                  ...  \n",
              "settlement_status      The status of the borrower’s settlement plan. ...  \n",
              "settlement_date        The date that the borrower agrees to the settl...  \n",
              "settlement_amount      The loan amount that the borrower has agreed t...  \n",
              "settlement_percentage  The settlement amount as a percentage of the p...  \n",
              "settlement_term        The number of months that the borrower will be...  \n",
              "\n",
              "[145 rows x 2 columns]"
            ],
            "text/html": [
              "\n",
              "  <div id=\"df-3d81cb78-702c-49f5-ac3a-c867e6577539\">\n",
              "    <div class=\"colab-df-container\">\n",
              "      <div>\n",
              "<style scoped>\n",
              "    .dataframe tbody tr th:only-of-type {\n",
              "        vertical-align: middle;\n",
              "    }\n",
              "\n",
              "    .dataframe tbody tr th {\n",
              "        vertical-align: top;\n",
              "    }\n",
              "\n",
              "    .dataframe thead th {\n",
              "        text-align: right;\n",
              "    }\n",
              "</style>\n",
              "<table border=\"1\" class=\"dataframe\">\n",
              "  <thead>\n",
              "    <tr style=\"text-align: right;\">\n",
              "      <th></th>\n",
              "      <th>% Nan</th>\n",
              "      <th>Description</th>\n",
              "    </tr>\n",
              "  </thead>\n",
              "  <tbody>\n",
              "    <tr>\n",
              "      <th>id</th>\n",
              "      <td>100.000000</td>\n",
              "      <td>A unique LC assigned ID for the loan listing.</td>\n",
              "    </tr>\n",
              "    <tr>\n",
              "      <th>member_id</th>\n",
              "      <td>100.000000</td>\n",
              "      <td>A unique LC assigned Id for the borrower member.</td>\n",
              "    </tr>\n",
              "    <tr>\n",
              "      <th>loan_amnt</th>\n",
              "      <td>0.000000</td>\n",
              "      <td>The listed amount of the loan applied for by t...</td>\n",
              "    </tr>\n",
              "    <tr>\n",
              "      <th>funded_amnt</th>\n",
              "      <td>0.000000</td>\n",
              "      <td>The total amount committed to that loan at tha...</td>\n",
              "    </tr>\n",
              "    <tr>\n",
              "      <th>funded_amnt_inv</th>\n",
              "      <td>0.000000</td>\n",
              "      <td>The total amount committed by investors for th...</td>\n",
              "    </tr>\n",
              "    <tr>\n",
              "      <th>...</th>\n",
              "      <td>...</td>\n",
              "      <td>...</td>\n",
              "    </tr>\n",
              "    <tr>\n",
              "      <th>settlement_status</th>\n",
              "      <td>99.995776</td>\n",
              "      <td>The status of the borrower’s settlement plan. ...</td>\n",
              "    </tr>\n",
              "    <tr>\n",
              "      <th>settlement_date</th>\n",
              "      <td>99.995776</td>\n",
              "      <td>The date that the borrower agrees to the settl...</td>\n",
              "    </tr>\n",
              "    <tr>\n",
              "      <th>settlement_amount</th>\n",
              "      <td>99.995776</td>\n",
              "      <td>The loan amount that the borrower has agreed t...</td>\n",
              "    </tr>\n",
              "    <tr>\n",
              "      <th>settlement_percentage</th>\n",
              "      <td>99.995776</td>\n",
              "      <td>The settlement amount as a percentage of the p...</td>\n",
              "    </tr>\n",
              "    <tr>\n",
              "      <th>settlement_term</th>\n",
              "      <td>99.995776</td>\n",
              "      <td>The number of months that the borrower will be...</td>\n",
              "    </tr>\n",
              "  </tbody>\n",
              "</table>\n",
              "<p>145 rows × 2 columns</p>\n",
              "</div>\n",
              "      <button class=\"colab-df-convert\" onclick=\"convertToInteractive('df-3d81cb78-702c-49f5-ac3a-c867e6577539')\"\n",
              "              title=\"Convert this dataframe to an interactive table.\"\n",
              "              style=\"display:none;\">\n",
              "        \n",
              "  <svg xmlns=\"http://www.w3.org/2000/svg\" height=\"24px\"viewBox=\"0 0 24 24\"\n",
              "       width=\"24px\">\n",
              "    <path d=\"M0 0h24v24H0V0z\" fill=\"none\"/>\n",
              "    <path d=\"M18.56 5.44l.94 2.06.94-2.06 2.06-.94-2.06-.94-.94-2.06-.94 2.06-2.06.94zm-11 1L8.5 8.5l.94-2.06 2.06-.94-2.06-.94L8.5 2.5l-.94 2.06-2.06.94zm10 10l.94 2.06.94-2.06 2.06-.94-2.06-.94-.94-2.06-.94 2.06-2.06.94z\"/><path d=\"M17.41 7.96l-1.37-1.37c-.4-.4-.92-.59-1.43-.59-.52 0-1.04.2-1.43.59L10.3 9.45l-7.72 7.72c-.78.78-.78 2.05 0 2.83L4 21.41c.39.39.9.59 1.41.59.51 0 1.02-.2 1.41-.59l7.78-7.78 2.81-2.81c.8-.78.8-2.07 0-2.86zM5.41 20L4 18.59l7.72-7.72 1.47 1.35L5.41 20z\"/>\n",
              "  </svg>\n",
              "      </button>\n",
              "      \n",
              "  <style>\n",
              "    .colab-df-container {\n",
              "      display:flex;\n",
              "      flex-wrap:wrap;\n",
              "      gap: 12px;\n",
              "    }\n",
              "\n",
              "    .colab-df-convert {\n",
              "      background-color: #E8F0FE;\n",
              "      border: none;\n",
              "      border-radius: 50%;\n",
              "      cursor: pointer;\n",
              "      display: none;\n",
              "      fill: #1967D2;\n",
              "      height: 32px;\n",
              "      padding: 0 0 0 0;\n",
              "      width: 32px;\n",
              "    }\n",
              "\n",
              "    .colab-df-convert:hover {\n",
              "      background-color: #E2EBFA;\n",
              "      box-shadow: 0px 1px 2px rgba(60, 64, 67, 0.3), 0px 1px 3px 1px rgba(60, 64, 67, 0.15);\n",
              "      fill: #174EA6;\n",
              "    }\n",
              "\n",
              "    [theme=dark] .colab-df-convert {\n",
              "      background-color: #3B4455;\n",
              "      fill: #D2E3FC;\n",
              "    }\n",
              "\n",
              "    [theme=dark] .colab-df-convert:hover {\n",
              "      background-color: #434B5C;\n",
              "      box-shadow: 0px 1px 3px 1px rgba(0, 0, 0, 0.15);\n",
              "      filter: drop-shadow(0px 1px 2px rgba(0, 0, 0, 0.3));\n",
              "      fill: #FFFFFF;\n",
              "    }\n",
              "  </style>\n",
              "\n",
              "      <script>\n",
              "        const buttonEl =\n",
              "          document.querySelector('#df-3d81cb78-702c-49f5-ac3a-c867e6577539 button.colab-df-convert');\n",
              "        buttonEl.style.display =\n",
              "          google.colab.kernel.accessAllowed ? 'block' : 'none';\n",
              "\n",
              "        async function convertToInteractive(key) {\n",
              "          const element = document.querySelector('#df-3d81cb78-702c-49f5-ac3a-c867e6577539');\n",
              "          const dataTable =\n",
              "            await google.colab.kernel.invokeFunction('convertToInteractive',\n",
              "                                                     [key], {});\n",
              "          if (!dataTable) return;\n",
              "\n",
              "          const docLinkHtml = 'Like what you see? Visit the ' +\n",
              "            '<a target=\"_blank\" href=https://colab.research.google.com/notebooks/data_table.ipynb>data table notebook</a>'\n",
              "            + ' to learn more about interactive tables.';\n",
              "          element.innerHTML = '';\n",
              "          dataTable['output_type'] = 'display_data';\n",
              "          await google.colab.output.renderOutput(dataTable, element);\n",
              "          const docLink = document.createElement('div');\n",
              "          docLink.innerHTML = docLinkHtml;\n",
              "          element.appendChild(docLink);\n",
              "        }\n",
              "      </script>\n",
              "    </div>\n",
              "  </div>\n",
              "  "
            ]
          },
          "metadata": {},
          "execution_count": 27
        }
      ],
      "source": [
        "# Calculate the percentage of Nan values for each feature\n",
        "nan_prec = pd.DataFrame(((df.isna()).sum() / df.shape[0])*100 , columns=['% Nan'])\n",
        "nan_prec['Description'] = [feature_dict.get(nan_prec.index[i]) for i in range(nan_prec.shape[0])]\n",
        "nan_prec"
      ],
      "metadata": {
        "colab": {
          "base_uri": "https://localhost:8080/",
          "height": 424
        },
        "id": "rE9qMYaL50TH",
        "outputId": "d1a9418f-27d3-474a-ccd6-8295d1f77cd2"
      }
    },
    {
      "cell_type": "markdown",
      "source": [
        "first we can remove the features with >90% Nan Values.\n",
        "Those are mostly columns used to take notes about events that are already described in other columns.\n",
        "we can take a look at those columns before droping them, just to make sure we don't miss anything:"
      ],
      "metadata": {
        "collapsed": false,
        "id": "rjbwnQ4i50TH"
      }
    },
    {
      "cell_type": "code",
      "execution_count": 28,
      "outputs": [
        {
          "output_type": "execute_result",
          "data": {
            "text/plain": [
              "                                                 % Nan  \\\n",
              "id                                          100.000000   \n",
              "member_id                                   100.000000   \n",
              "url                                         100.000000   \n",
              "desc                                        100.000000   \n",
              "sec_app_mths_since_last_major_derog          95.841860   \n",
              "hardship_type                                99.996245   \n",
              "hardship_reason                              99.996245   \n",
              "hardship_status                              99.996245   \n",
              "deferral_term                                99.996245   \n",
              "hardship_amount                              99.996245   \n",
              "hardship_start_date                          99.996245   \n",
              "hardship_end_date                            99.996245   \n",
              "payment_plan_start_date                      99.996245   \n",
              "hardship_length                              99.996245   \n",
              "hardship_dpd                                 99.996245   \n",
              "hardship_loan_status                         99.996245   \n",
              "orig_projected_additional_accrued_interest   99.996245   \n",
              "hardship_payoff_balance_amount               99.996245   \n",
              "hardship_last_payment_amount                 99.996245   \n",
              "debt_settlement_flag_date                    99.995776   \n",
              "settlement_status                            99.995776   \n",
              "settlement_date                              99.995776   \n",
              "settlement_amount                            99.995776   \n",
              "settlement_percentage                        99.995776   \n",
              "settlement_term                              99.995776   \n",
              "\n",
              "                                                                                  Description  \n",
              "id                                              A unique LC assigned ID for the loan listing.  \n",
              "member_id                                    A unique LC assigned Id for the borrower member.  \n",
              "url                                                    URL for the LC page with listing data.  \n",
              "desc                                                Loan description provided by the borrower  \n",
              "sec_app_mths_since_last_major_derog                                                      None  \n",
              "hardship_type                                            Describes the hardship plan offering  \n",
              "hardship_reason                             Describes the reason the hardship plan was off...  \n",
              "hardship_status                             Describes if the hardship plan is active, pend...  \n",
              "deferral_term                               Amount of months that the borrower is expected...  \n",
              "hardship_amount                             The interest payment that the borrower has com...  \n",
              "hardship_start_date                                The start date of the hardship plan period  \n",
              "hardship_end_date                                    The end date of the hardship plan period  \n",
              "payment_plan_start_date                     The day the first hardship plan payment is due...  \n",
              "hardship_length                             The number of months the borrower will make sm...  \n",
              "hardship_dpd                                Account days past due as of the hardship plan ...  \n",
              "hardship_loan_status                           Loan Status as of the hardship plan start date  \n",
              "orig_projected_additional_accrued_interest  The original projected additional interest amo...  \n",
              "hardship_payoff_balance_amount              The payoff balance amount as of the hardship p...  \n",
              "hardship_last_payment_amount                The last payment amount as of the hardship pla...  \n",
              "debt_settlement_flag_date                   The most recent date that the Debt_Settlement_...  \n",
              "settlement_status                           The status of the borrower’s settlement plan. ...  \n",
              "settlement_date                             The date that the borrower agrees to the settl...  \n",
              "settlement_amount                           The loan amount that the borrower has agreed t...  \n",
              "settlement_percentage                       The settlement amount as a percentage of the p...  \n",
              "settlement_term                             The number of months that the borrower will be...  "
            ],
            "text/html": [
              "\n",
              "  <div id=\"df-8d9651e8-1c59-40d0-b382-bf44fdc44f88\">\n",
              "    <div class=\"colab-df-container\">\n",
              "      <div>\n",
              "<style scoped>\n",
              "    .dataframe tbody tr th:only-of-type {\n",
              "        vertical-align: middle;\n",
              "    }\n",
              "\n",
              "    .dataframe tbody tr th {\n",
              "        vertical-align: top;\n",
              "    }\n",
              "\n",
              "    .dataframe thead th {\n",
              "        text-align: right;\n",
              "    }\n",
              "</style>\n",
              "<table border=\"1\" class=\"dataframe\">\n",
              "  <thead>\n",
              "    <tr style=\"text-align: right;\">\n",
              "      <th></th>\n",
              "      <th>% Nan</th>\n",
              "      <th>Description</th>\n",
              "    </tr>\n",
              "  </thead>\n",
              "  <tbody>\n",
              "    <tr>\n",
              "      <th>id</th>\n",
              "      <td>100.000000</td>\n",
              "      <td>A unique LC assigned ID for the loan listing.</td>\n",
              "    </tr>\n",
              "    <tr>\n",
              "      <th>member_id</th>\n",
              "      <td>100.000000</td>\n",
              "      <td>A unique LC assigned Id for the borrower member.</td>\n",
              "    </tr>\n",
              "    <tr>\n",
              "      <th>url</th>\n",
              "      <td>100.000000</td>\n",
              "      <td>URL for the LC page with listing data.</td>\n",
              "    </tr>\n",
              "    <tr>\n",
              "      <th>desc</th>\n",
              "      <td>100.000000</td>\n",
              "      <td>Loan description provided by the borrower</td>\n",
              "    </tr>\n",
              "    <tr>\n",
              "      <th>sec_app_mths_since_last_major_derog</th>\n",
              "      <td>95.841860</td>\n",
              "      <td>None</td>\n",
              "    </tr>\n",
              "    <tr>\n",
              "      <th>hardship_type</th>\n",
              "      <td>99.996245</td>\n",
              "      <td>Describes the hardship plan offering</td>\n",
              "    </tr>\n",
              "    <tr>\n",
              "      <th>hardship_reason</th>\n",
              "      <td>99.996245</td>\n",
              "      <td>Describes the reason the hardship plan was off...</td>\n",
              "    </tr>\n",
              "    <tr>\n",
              "      <th>hardship_status</th>\n",
              "      <td>99.996245</td>\n",
              "      <td>Describes if the hardship plan is active, pend...</td>\n",
              "    </tr>\n",
              "    <tr>\n",
              "      <th>deferral_term</th>\n",
              "      <td>99.996245</td>\n",
              "      <td>Amount of months that the borrower is expected...</td>\n",
              "    </tr>\n",
              "    <tr>\n",
              "      <th>hardship_amount</th>\n",
              "      <td>99.996245</td>\n",
              "      <td>The interest payment that the borrower has com...</td>\n",
              "    </tr>\n",
              "    <tr>\n",
              "      <th>hardship_start_date</th>\n",
              "      <td>99.996245</td>\n",
              "      <td>The start date of the hardship plan period</td>\n",
              "    </tr>\n",
              "    <tr>\n",
              "      <th>hardship_end_date</th>\n",
              "      <td>99.996245</td>\n",
              "      <td>The end date of the hardship plan period</td>\n",
              "    </tr>\n",
              "    <tr>\n",
              "      <th>payment_plan_start_date</th>\n",
              "      <td>99.996245</td>\n",
              "      <td>The day the first hardship plan payment is due...</td>\n",
              "    </tr>\n",
              "    <tr>\n",
              "      <th>hardship_length</th>\n",
              "      <td>99.996245</td>\n",
              "      <td>The number of months the borrower will make sm...</td>\n",
              "    </tr>\n",
              "    <tr>\n",
              "      <th>hardship_dpd</th>\n",
              "      <td>99.996245</td>\n",
              "      <td>Account days past due as of the hardship plan ...</td>\n",
              "    </tr>\n",
              "    <tr>\n",
              "      <th>hardship_loan_status</th>\n",
              "      <td>99.996245</td>\n",
              "      <td>Loan Status as of the hardship plan start date</td>\n",
              "    </tr>\n",
              "    <tr>\n",
              "      <th>orig_projected_additional_accrued_interest</th>\n",
              "      <td>99.996245</td>\n",
              "      <td>The original projected additional interest amo...</td>\n",
              "    </tr>\n",
              "    <tr>\n",
              "      <th>hardship_payoff_balance_amount</th>\n",
              "      <td>99.996245</td>\n",
              "      <td>The payoff balance amount as of the hardship p...</td>\n",
              "    </tr>\n",
              "    <tr>\n",
              "      <th>hardship_last_payment_amount</th>\n",
              "      <td>99.996245</td>\n",
              "      <td>The last payment amount as of the hardship pla...</td>\n",
              "    </tr>\n",
              "    <tr>\n",
              "      <th>debt_settlement_flag_date</th>\n",
              "      <td>99.995776</td>\n",
              "      <td>The most recent date that the Debt_Settlement_...</td>\n",
              "    </tr>\n",
              "    <tr>\n",
              "      <th>settlement_status</th>\n",
              "      <td>99.995776</td>\n",
              "      <td>The status of the borrower’s settlement plan. ...</td>\n",
              "    </tr>\n",
              "    <tr>\n",
              "      <th>settlement_date</th>\n",
              "      <td>99.995776</td>\n",
              "      <td>The date that the borrower agrees to the settl...</td>\n",
              "    </tr>\n",
              "    <tr>\n",
              "      <th>settlement_amount</th>\n",
              "      <td>99.995776</td>\n",
              "      <td>The loan amount that the borrower has agreed t...</td>\n",
              "    </tr>\n",
              "    <tr>\n",
              "      <th>settlement_percentage</th>\n",
              "      <td>99.995776</td>\n",
              "      <td>The settlement amount as a percentage of the p...</td>\n",
              "    </tr>\n",
              "    <tr>\n",
              "      <th>settlement_term</th>\n",
              "      <td>99.995776</td>\n",
              "      <td>The number of months that the borrower will be...</td>\n",
              "    </tr>\n",
              "  </tbody>\n",
              "</table>\n",
              "</div>\n",
              "      <button class=\"colab-df-convert\" onclick=\"convertToInteractive('df-8d9651e8-1c59-40d0-b382-bf44fdc44f88')\"\n",
              "              title=\"Convert this dataframe to an interactive table.\"\n",
              "              style=\"display:none;\">\n",
              "        \n",
              "  <svg xmlns=\"http://www.w3.org/2000/svg\" height=\"24px\"viewBox=\"0 0 24 24\"\n",
              "       width=\"24px\">\n",
              "    <path d=\"M0 0h24v24H0V0z\" fill=\"none\"/>\n",
              "    <path d=\"M18.56 5.44l.94 2.06.94-2.06 2.06-.94-2.06-.94-.94-2.06-.94 2.06-2.06.94zm-11 1L8.5 8.5l.94-2.06 2.06-.94-2.06-.94L8.5 2.5l-.94 2.06-2.06.94zm10 10l.94 2.06.94-2.06 2.06-.94-2.06-.94-.94-2.06-.94 2.06-2.06.94z\"/><path d=\"M17.41 7.96l-1.37-1.37c-.4-.4-.92-.59-1.43-.59-.52 0-1.04.2-1.43.59L10.3 9.45l-7.72 7.72c-.78.78-.78 2.05 0 2.83L4 21.41c.39.39.9.59 1.41.59.51 0 1.02-.2 1.41-.59l7.78-7.78 2.81-2.81c.8-.78.8-2.07 0-2.86zM5.41 20L4 18.59l7.72-7.72 1.47 1.35L5.41 20z\"/>\n",
              "  </svg>\n",
              "      </button>\n",
              "      \n",
              "  <style>\n",
              "    .colab-df-container {\n",
              "      display:flex;\n",
              "      flex-wrap:wrap;\n",
              "      gap: 12px;\n",
              "    }\n",
              "\n",
              "    .colab-df-convert {\n",
              "      background-color: #E8F0FE;\n",
              "      border: none;\n",
              "      border-radius: 50%;\n",
              "      cursor: pointer;\n",
              "      display: none;\n",
              "      fill: #1967D2;\n",
              "      height: 32px;\n",
              "      padding: 0 0 0 0;\n",
              "      width: 32px;\n",
              "    }\n",
              "\n",
              "    .colab-df-convert:hover {\n",
              "      background-color: #E2EBFA;\n",
              "      box-shadow: 0px 1px 2px rgba(60, 64, 67, 0.3), 0px 1px 3px 1px rgba(60, 64, 67, 0.15);\n",
              "      fill: #174EA6;\n",
              "    }\n",
              "\n",
              "    [theme=dark] .colab-df-convert {\n",
              "      background-color: #3B4455;\n",
              "      fill: #D2E3FC;\n",
              "    }\n",
              "\n",
              "    [theme=dark] .colab-df-convert:hover {\n",
              "      background-color: #434B5C;\n",
              "      box-shadow: 0px 1px 3px 1px rgba(0, 0, 0, 0.15);\n",
              "      filter: drop-shadow(0px 1px 2px rgba(0, 0, 0, 0.3));\n",
              "      fill: #FFFFFF;\n",
              "    }\n",
              "  </style>\n",
              "\n",
              "      <script>\n",
              "        const buttonEl =\n",
              "          document.querySelector('#df-8d9651e8-1c59-40d0-b382-bf44fdc44f88 button.colab-df-convert');\n",
              "        buttonEl.style.display =\n",
              "          google.colab.kernel.accessAllowed ? 'block' : 'none';\n",
              "\n",
              "        async function convertToInteractive(key) {\n",
              "          const element = document.querySelector('#df-8d9651e8-1c59-40d0-b382-bf44fdc44f88');\n",
              "          const dataTable =\n",
              "            await google.colab.kernel.invokeFunction('convertToInteractive',\n",
              "                                                     [key], {});\n",
              "          if (!dataTable) return;\n",
              "\n",
              "          const docLinkHtml = 'Like what you see? Visit the ' +\n",
              "            '<a target=\"_blank\" href=https://colab.research.google.com/notebooks/data_table.ipynb>data table notebook</a>'\n",
              "            + ' to learn more about interactive tables.';\n",
              "          element.innerHTML = '';\n",
              "          dataTable['output_type'] = 'display_data';\n",
              "          await google.colab.output.renderOutput(dataTable, element);\n",
              "          const docLink = document.createElement('div');\n",
              "          docLink.innerHTML = docLinkHtml;\n",
              "          element.appendChild(docLink);\n",
              "        }\n",
              "      </script>\n",
              "    </div>\n",
              "  </div>\n",
              "  "
            ]
          },
          "metadata": {},
          "execution_count": 28
        }
      ],
      "source": [
        "#lets get a list of all features with above 90% Nan Values:\n",
        "nan_prec[nan_prec['% Nan']>=90]"
      ],
      "metadata": {
        "colab": {
          "base_uri": "https://localhost:8080/",
          "height": 833
        },
        "id": "la9zRUJo50TH",
        "outputId": "426e2883-a64f-457b-fc4c-482f41361f8f"
      }
    },
    {
      "cell_type": "markdown",
      "source": [
        "\n",
        "There are actually some potentially interesting values that we will be dropping off -\n",
        "\n",
        "*annual_inc_joint* - The combined self-reported annual income provided by the co-borrowers during registration.\n",
        "\n",
        "*dti_joint* - A ratio calculated using the co-borrowers' total monthly payments on the total debt obligations, excluding mortgages and the requested LC loan, divided by the co-borrowers' combined self-reported monthly income.\n",
        "\n",
        "*sec_app_open_act_il* -  Number of currently active installment trades at time of application for the secondary applicant.\n",
        "\n",
        "unfortunately there is too low amount of valid values to imply any benefits for our model (which could have been possible if it was some 'red flag' parameters), we will drop those features with the others.\n",
        "\n",
        "\n"
      ],
      "metadata": {
        "collapsed": false,
        "id": "bZiGQyIC50TH"
      }
    },
    {
      "cell_type": "code",
      "execution_count": 29,
      "outputs": [],
      "source": [
        "df = df.loc[:,(nan_prec['% Nan']<90)]"
      ],
      "metadata": {
        "id": "YBccoC7d50TI"
      }
    },
    {
      "cell_type": "markdown",
      "source": [
        "let's run the same check for columns with above 50% Nan Values:"
      ],
      "metadata": {
        "collapsed": false,
        "id": "_uLm-b7b50TI"
      }
    },
    {
      "cell_type": "code",
      "execution_count": 30,
      "outputs": [
        {
          "output_type": "execute_result",
          "data": {
            "text/plain": [
              "                                        % Nan  \\\n",
              "mths_since_last_delinq              56.166570   \n",
              "mths_since_last_record              87.863526   \n",
              "mths_since_last_major_derog         77.215422   \n",
              "annual_inc_joint                    86.523478   \n",
              "dti_joint                           86.523478   \n",
              "verification_status_joint           88.130597   \n",
              "mths_since_recent_bc_dlq            80.376622   \n",
              "mths_since_recent_revol_delinq      71.359574   \n",
              "revol_bal_joint                     86.523478   \n",
              "sec_app_earliest_cr_line            86.523478   \n",
              "sec_app_inq_last_6mths              86.523478   \n",
              "sec_app_mort_acc                    86.523478   \n",
              "sec_app_open_acc                    86.523478   \n",
              "sec_app_revol_util                  86.744081   \n",
              "sec_app_open_act_il                 86.523478   \n",
              "sec_app_num_rev_accts               86.523478   \n",
              "sec_app_chargeoff_within_12_mths    86.523478   \n",
              "sec_app_collections_12_mths_ex_med  86.523478   \n",
              "\n",
              "                                                                          Description  \n",
              "mths_since_last_delinq              The number of months since the borrower's last...  \n",
              "mths_since_last_record              The number of months since the last public rec...  \n",
              "mths_since_last_major_derog           Months since most recent 90-day or worse rating  \n",
              "annual_inc_joint                    The combined self-reported annual income provi...  \n",
              "dti_joint                           A ratio calculated using the co-borrowers' tot...  \n",
              "verification_status_joint                                                        None  \n",
              "mths_since_recent_bc_dlq                Months since most recent bankcard delinquency  \n",
              "mths_since_recent_revol_delinq        Months since most recent revolving delinquency.  \n",
              "revol_bal_joint                                                                  None  \n",
              "sec_app_earliest_cr_line                                                         None  \n",
              "sec_app_inq_last_6mths                                                           None  \n",
              "sec_app_mort_acc                                                                 None  \n",
              "sec_app_open_acc                                                                 None  \n",
              "sec_app_revol_util                                                               None  \n",
              "sec_app_open_act_il                  Number of currently active installment trades...  \n",
              "sec_app_num_rev_accts                                                            None  \n",
              "sec_app_chargeoff_within_12_mths                                                 None  \n",
              "sec_app_collections_12_mths_ex_med                                               None  "
            ],
            "text/html": [
              "\n",
              "  <div id=\"df-ed13f2a1-9121-4e65-bbf9-0c9a63bd9e99\">\n",
              "    <div class=\"colab-df-container\">\n",
              "      <div>\n",
              "<style scoped>\n",
              "    .dataframe tbody tr th:only-of-type {\n",
              "        vertical-align: middle;\n",
              "    }\n",
              "\n",
              "    .dataframe tbody tr th {\n",
              "        vertical-align: top;\n",
              "    }\n",
              "\n",
              "    .dataframe thead th {\n",
              "        text-align: right;\n",
              "    }\n",
              "</style>\n",
              "<table border=\"1\" class=\"dataframe\">\n",
              "  <thead>\n",
              "    <tr style=\"text-align: right;\">\n",
              "      <th></th>\n",
              "      <th>% Nan</th>\n",
              "      <th>Description</th>\n",
              "    </tr>\n",
              "  </thead>\n",
              "  <tbody>\n",
              "    <tr>\n",
              "      <th>mths_since_last_delinq</th>\n",
              "      <td>56.166570</td>\n",
              "      <td>The number of months since the borrower's last...</td>\n",
              "    </tr>\n",
              "    <tr>\n",
              "      <th>mths_since_last_record</th>\n",
              "      <td>87.863526</td>\n",
              "      <td>The number of months since the last public rec...</td>\n",
              "    </tr>\n",
              "    <tr>\n",
              "      <th>mths_since_last_major_derog</th>\n",
              "      <td>77.215422</td>\n",
              "      <td>Months since most recent 90-day or worse rating</td>\n",
              "    </tr>\n",
              "    <tr>\n",
              "      <th>annual_inc_joint</th>\n",
              "      <td>86.523478</td>\n",
              "      <td>The combined self-reported annual income provi...</td>\n",
              "    </tr>\n",
              "    <tr>\n",
              "      <th>dti_joint</th>\n",
              "      <td>86.523478</td>\n",
              "      <td>A ratio calculated using the co-borrowers' tot...</td>\n",
              "    </tr>\n",
              "    <tr>\n",
              "      <th>verification_status_joint</th>\n",
              "      <td>88.130597</td>\n",
              "      <td>None</td>\n",
              "    </tr>\n",
              "    <tr>\n",
              "      <th>mths_since_recent_bc_dlq</th>\n",
              "      <td>80.376622</td>\n",
              "      <td>Months since most recent bankcard delinquency</td>\n",
              "    </tr>\n",
              "    <tr>\n",
              "      <th>mths_since_recent_revol_delinq</th>\n",
              "      <td>71.359574</td>\n",
              "      <td>Months since most recent revolving delinquency.</td>\n",
              "    </tr>\n",
              "    <tr>\n",
              "      <th>revol_bal_joint</th>\n",
              "      <td>86.523478</td>\n",
              "      <td>None</td>\n",
              "    </tr>\n",
              "    <tr>\n",
              "      <th>sec_app_earliest_cr_line</th>\n",
              "      <td>86.523478</td>\n",
              "      <td>None</td>\n",
              "    </tr>\n",
              "    <tr>\n",
              "      <th>sec_app_inq_last_6mths</th>\n",
              "      <td>86.523478</td>\n",
              "      <td>None</td>\n",
              "    </tr>\n",
              "    <tr>\n",
              "      <th>sec_app_mort_acc</th>\n",
              "      <td>86.523478</td>\n",
              "      <td>None</td>\n",
              "    </tr>\n",
              "    <tr>\n",
              "      <th>sec_app_open_acc</th>\n",
              "      <td>86.523478</td>\n",
              "      <td>None</td>\n",
              "    </tr>\n",
              "    <tr>\n",
              "      <th>sec_app_revol_util</th>\n",
              "      <td>86.744081</td>\n",
              "      <td>None</td>\n",
              "    </tr>\n",
              "    <tr>\n",
              "      <th>sec_app_open_act_il</th>\n",
              "      <td>86.523478</td>\n",
              "      <td>Number of currently active installment trades...</td>\n",
              "    </tr>\n",
              "    <tr>\n",
              "      <th>sec_app_num_rev_accts</th>\n",
              "      <td>86.523478</td>\n",
              "      <td>None</td>\n",
              "    </tr>\n",
              "    <tr>\n",
              "      <th>sec_app_chargeoff_within_12_mths</th>\n",
              "      <td>86.523478</td>\n",
              "      <td>None</td>\n",
              "    </tr>\n",
              "    <tr>\n",
              "      <th>sec_app_collections_12_mths_ex_med</th>\n",
              "      <td>86.523478</td>\n",
              "      <td>None</td>\n",
              "    </tr>\n",
              "  </tbody>\n",
              "</table>\n",
              "</div>\n",
              "      <button class=\"colab-df-convert\" onclick=\"convertToInteractive('df-ed13f2a1-9121-4e65-bbf9-0c9a63bd9e99')\"\n",
              "              title=\"Convert this dataframe to an interactive table.\"\n",
              "              style=\"display:none;\">\n",
              "        \n",
              "  <svg xmlns=\"http://www.w3.org/2000/svg\" height=\"24px\"viewBox=\"0 0 24 24\"\n",
              "       width=\"24px\">\n",
              "    <path d=\"M0 0h24v24H0V0z\" fill=\"none\"/>\n",
              "    <path d=\"M18.56 5.44l.94 2.06.94-2.06 2.06-.94-2.06-.94-.94-2.06-.94 2.06-2.06.94zm-11 1L8.5 8.5l.94-2.06 2.06-.94-2.06-.94L8.5 2.5l-.94 2.06-2.06.94zm10 10l.94 2.06.94-2.06 2.06-.94-2.06-.94-.94-2.06-.94 2.06-2.06.94z\"/><path d=\"M17.41 7.96l-1.37-1.37c-.4-.4-.92-.59-1.43-.59-.52 0-1.04.2-1.43.59L10.3 9.45l-7.72 7.72c-.78.78-.78 2.05 0 2.83L4 21.41c.39.39.9.59 1.41.59.51 0 1.02-.2 1.41-.59l7.78-7.78 2.81-2.81c.8-.78.8-2.07 0-2.86zM5.41 20L4 18.59l7.72-7.72 1.47 1.35L5.41 20z\"/>\n",
              "  </svg>\n",
              "      </button>\n",
              "      \n",
              "  <style>\n",
              "    .colab-df-container {\n",
              "      display:flex;\n",
              "      flex-wrap:wrap;\n",
              "      gap: 12px;\n",
              "    }\n",
              "\n",
              "    .colab-df-convert {\n",
              "      background-color: #E8F0FE;\n",
              "      border: none;\n",
              "      border-radius: 50%;\n",
              "      cursor: pointer;\n",
              "      display: none;\n",
              "      fill: #1967D2;\n",
              "      height: 32px;\n",
              "      padding: 0 0 0 0;\n",
              "      width: 32px;\n",
              "    }\n",
              "\n",
              "    .colab-df-convert:hover {\n",
              "      background-color: #E2EBFA;\n",
              "      box-shadow: 0px 1px 2px rgba(60, 64, 67, 0.3), 0px 1px 3px 1px rgba(60, 64, 67, 0.15);\n",
              "      fill: #174EA6;\n",
              "    }\n",
              "\n",
              "    [theme=dark] .colab-df-convert {\n",
              "      background-color: #3B4455;\n",
              "      fill: #D2E3FC;\n",
              "    }\n",
              "\n",
              "    [theme=dark] .colab-df-convert:hover {\n",
              "      background-color: #434B5C;\n",
              "      box-shadow: 0px 1px 3px 1px rgba(0, 0, 0, 0.15);\n",
              "      filter: drop-shadow(0px 1px 2px rgba(0, 0, 0, 0.3));\n",
              "      fill: #FFFFFF;\n",
              "    }\n",
              "  </style>\n",
              "\n",
              "      <script>\n",
              "        const buttonEl =\n",
              "          document.querySelector('#df-ed13f2a1-9121-4e65-bbf9-0c9a63bd9e99 button.colab-df-convert');\n",
              "        buttonEl.style.display =\n",
              "          google.colab.kernel.accessAllowed ? 'block' : 'none';\n",
              "\n",
              "        async function convertToInteractive(key) {\n",
              "          const element = document.querySelector('#df-ed13f2a1-9121-4e65-bbf9-0c9a63bd9e99');\n",
              "          const dataTable =\n",
              "            await google.colab.kernel.invokeFunction('convertToInteractive',\n",
              "                                                     [key], {});\n",
              "          if (!dataTable) return;\n",
              "\n",
              "          const docLinkHtml = 'Like what you see? Visit the ' +\n",
              "            '<a target=\"_blank\" href=https://colab.research.google.com/notebooks/data_table.ipynb>data table notebook</a>'\n",
              "            + ' to learn more about interactive tables.';\n",
              "          element.innerHTML = '';\n",
              "          dataTable['output_type'] = 'display_data';\n",
              "          await google.colab.output.renderOutput(dataTable, element);\n",
              "          const docLink = document.createElement('div');\n",
              "          docLink.innerHTML = docLinkHtml;\n",
              "          element.appendChild(docLink);\n",
              "        }\n",
              "      </script>\n",
              "    </div>\n",
              "  </div>\n",
              "  "
            ]
          },
          "metadata": {},
          "execution_count": 30
        }
      ],
      "source": [
        "nan_prec = pd.DataFrame(((df.isna()).sum() / df.shape[0])*100 , columns=['% Nan'])\n",
        "nan_prec['Description'] = [feature_dict.get(nan_prec.index[i]) for i in range(nan_prec.shape[0])]\n",
        "nan_prec[nan_prec['% Nan']>=50]"
      ],
      "metadata": {
        "colab": {
          "base_uri": "https://localhost:8080/",
          "height": 614
        },
        "id": "0q8fyu8150TI",
        "outputId": "6fb483b9-6e77-4a71-d169-74613d6cae6a"
      }
    },
    {
      "cell_type": "markdown",
      "source": [
        "These time we can see that some of the columns can be reasonably imputed:\n",
        "all of the columns below represent the amount of months since an event that might be a red flag for our classification have happend.\n",
        "assuming that rows with missing values correspond to loan takers who didn't go through those events - we will empute those missing values with the following formula -\n",
        " max + 1.5(max-min)\n",
        "**mths_since_last_delinq** 50%  ,**mths_since_last_record** 80% ,**mths_since_last_major_derog** 73% ,**mths_since_recent_revol_delinq** - 67% , **mths_since_recent_bc_dlq** 77%\n",
        "\n",
        "**next_pymnt_d** - This feature is irrelevant to the point of loan application. we will drop it."
      ],
      "metadata": {
        "collapsed": false,
        "id": "I8wb_YyE50TI"
      }
    },
    {
      "cell_type": "code",
      "execution_count": 31,
      "outputs": [],
      "source": [
        "\n",
        "df.drop(columns=['next_pymnt_d'], inplace=True)\n",
        "list = ['mths_since_last_delinq', 'mths_since_last_record', 'mths_since_last_major_derog', 'mths_since_recent_bc_dlq', 'mths_since_recent_revol_delinq']\n",
        "for i, feat in enumerate(list):\n",
        "    temp_max = df[feat].max()\n",
        "    temp_min = df[feat].min()\n",
        "    temp_val = temp_max + 1.5*(temp_max - temp_min)\n",
        "    df[feat].fillna(temp_val, inplace=True)\n"
      ],
      "metadata": {
        "id": "FXpjbjdY50TI"
      }
    },
    {
      "cell_type": "markdown",
      "source": [
        "lets update 'nan_prec'"
      ],
      "metadata": {
        "collapsed": false,
        "id": "Gt_GU4FD50TJ"
      }
    },
    {
      "cell_type": "code",
      "execution_count": 32,
      "outputs": [],
      "source": [
        "nan_prec = pd.DataFrame(((df.isna()).sum() / df.shape[0])*100 , columns=['% Nan'])\n",
        "nan_prec['Description'] = [feature_dict.get(nan_prec.index[i]) for i in range(nan_prec.shape[0])]"
      ],
      "metadata": {
        "id": "JjdqXQ6q50TJ"
      }
    },
    {
      "cell_type": "markdown",
      "source": [
        "# Data Labeling\n",
        "Now, we will label our Data and then drop all columns that has information that is not known at the time of loan application.\n",
        "The labeling is important because I want to see the different features correlation to the label in further analysis.\n",
        "\n",
        "let's take a look at the 'Loan Status' column:"
      ],
      "metadata": {
        "collapsed": false,
        "id": "VfkKPXiR50TJ"
      }
    },
    {
      "cell_type": "code",
      "execution_count": 33,
      "outputs": [
        {
          "output_type": "error",
          "ename": "NameError",
          "evalue": "ignored",
          "traceback": [
            "\u001b[0;31m---------------------------------------------------------------------------\u001b[0m",
            "\u001b[0;31mNameError\u001b[0m                                 Traceback (most recent call last)",
            "\u001b[0;32m<ipython-input-33-0fc4c14a428b>\u001b[0m in \u001b[0;36m<module>\u001b[0;34m\u001b[0m\n\u001b[1;32m      1\u001b[0m \u001b[0mvalue_counts\u001b[0m \u001b[0;34m=\u001b[0m \u001b[0mdf\u001b[0m\u001b[0;34m.\u001b[0m\u001b[0mloan_status\u001b[0m\u001b[0;34m.\u001b[0m\u001b[0mvalue_counts\u001b[0m\u001b[0;34m(\u001b[0m\u001b[0;34m)\u001b[0m\u001b[0;34m\u001b[0m\u001b[0;34m\u001b[0m\u001b[0m\n\u001b[1;32m      2\u001b[0m \u001b[0max\u001b[0m \u001b[0;34m=\u001b[0m \u001b[0mvalue_counts\u001b[0m\u001b[0;34m.\u001b[0m\u001b[0mplot\u001b[0m\u001b[0;34m(\u001b[0m\u001b[0mkind\u001b[0m\u001b[0;34m=\u001b[0m\u001b[0;34m'bar'\u001b[0m\u001b[0;34m)\u001b[0m\u001b[0;34m\u001b[0m\u001b[0;34m\u001b[0m\u001b[0m\n\u001b[0;32m----> 3\u001b[0;31m \u001b[0mplt\u001b[0m\u001b[0;34m.\u001b[0m\u001b[0mxticks\u001b[0m\u001b[0;34m(\u001b[0m\u001b[0mrotation\u001b[0m\u001b[0;34m=\u001b[0m\u001b[0;36m80\u001b[0m\u001b[0;34m)\u001b[0m\u001b[0;34m\u001b[0m\u001b[0;34m\u001b[0m\u001b[0m\n\u001b[0m\u001b[1;32m      4\u001b[0m \u001b[0mplt\u001b[0m\u001b[0;34m.\u001b[0m\u001b[0mtitle\u001b[0m\u001b[0;34m(\u001b[0m\u001b[0;34m\"Loan Status\"\u001b[0m\u001b[0;34m)\u001b[0m\u001b[0;34m\u001b[0m\u001b[0;34m\u001b[0m\u001b[0m\n\u001b[1;32m      5\u001b[0m \u001b[0mloan_stats\u001b[0m \u001b[0;34m=\u001b[0m \u001b[0;34m[\u001b[0m\u001b[0;34m]\u001b[0m\u001b[0;34m\u001b[0m\u001b[0;34m\u001b[0m\u001b[0m\n",
            "\u001b[0;31mNameError\u001b[0m: name 'plt' is not defined"
          ]
        },
        {
          "output_type": "display_data",
          "data": {
            "text/plain": [
              "<Figure size 432x288 with 1 Axes>"
            ],
            "image/png": "[encoded data removed]"
          },
          "metadata": {
            "needs_background": "light"
          }
        }
      ],
      "source": [
        "value_counts = df.loan_status.value_counts()\n",
        "ax = value_counts.plot(kind='bar')\n",
        "plt.xticks(rotation=80)\n",
        "plt.title(\"Loan Status\")\n",
        "loan_stats = []\n",
        "for i in ax.patches:\n",
        "    ax.text(i.get_x() + i.get_width()/2, i.get_height(), str(int(i.get_height())), fontsize=10, ha='center', color='black')\n",
        "    loan_stats.append(i.get_height())\n",
        "plt.show()"
      ],
      "metadata": {
        "colab": {
          "base_uri": "https://localhost:8080/",
          "height": 568
        },
        "id": "rd4nEpvl50TJ",
        "outputId": "2c1cb5a5-88a8-42bf-a24a-3cb98ed40e83"
      }
    },
    {
      "cell_type": "markdown",
      "source": [
        "We will start with building a simple model with two labels:\n",
        "\n",
        "- 1 **The un-trustable loan taker** - Doesn't return the ful loan.\n",
        "- 0 **The good loan taker** - Returns the loan.\n",
        "\n",
        "   - The majority of cases are fully paid, we can go forward and assign them as classification 0 **The good loan taker**.\n",
        "   - The cases that are *Charged off , In grace period or Default* are assigned with classification 1 **The un-trustable loan taker**\n",
        "-\n",
        "   - I'm not sure what does 'Does not meet the credit policy' means,  I'll drop those samples for now. in order to start with a simple model.\n",
        "   - we will drop off all current and late cases. to keep it simple.\n",
        "      - if I'll have time, I'll try to add those to the model, maybe as another class - for late loan takers for instance.\n",
        "   Despite all the drops we will be left with a big enough amount of samples for the task. we should notice that the 0 label is far more abundant than the 1. we will need to address this issue in model training."
      ],
      "metadata": {
        "collapsed": false,
        "id": "FtmCMHVs50TJ"
      }
    },
    {
      "cell_type": "code",
      "execution_count": null,
      "outputs": [],
      "source": [
        "drop_list = [\"Current\", \"Late (31-120 days)\", \"Late (16-30 days)\", \"Does not meet the credit policy. Status:Fully Paid\", \"Does not meet the credit policy. Status:Charged Off\"]\n",
        "df = df[~df[\"loan_status\"].isin(drop_list)]\n",
        "df.loc[df['loan_status'] != 'Fully Paid', 'label'] = 1\n",
        "df.loc[df['loan_status'] == 'Fully Paid', 'label'] = 0"
      ],
      "metadata": {
        "id": "BOPh_cmG50TK"
      }
    },
    {
      "cell_type": "markdown",
      "source": [
        "Now let's drop all columns that has information that is not known at the time of loan application:\n"
      ],
      "metadata": {
        "collapsed": false,
        "id": "bebqh6lE50TK"
      }
    },
    {
      "cell_type": "code",
      "execution_count": null,
      "outputs": [],
      "source": [
        "drop_list =  [\"chargeoff_within_12_mths\",'hardship_flag',\"last_pymnt_d\", \"tot_coll_amt\",\"last_credit_pull_d\",\"last_pymnt_amnt\",\"collection_recovery_fee\",\"recoveries\",\"total_rec_late_fee\",\"total_rec_int\",'debt_settlement_flag',\"total_rec_prncp\",\"total_pymnt_inv\",\"total_pymnt\",\"funded_amnt\",\"funded_amnt_inv\",\"issue_d\",\"loan_status\",\"pymnt_plan\",\"out_prncp\",\"out_prncp_inv\"]\n",
        "\n",
        "df.drop(columns=drop_list , inplace=True)\n",
        "pd.DataFrame(feature_dict, index=[0])[drop_list].T"
      ],
      "metadata": {
        "id": "Cq4CEfzE50TK"
      }
    },
    {
      "cell_type": "code",
      "execution_count": null,
      "outputs": [],
      "source": [
        "df.head(10)\n"
      ],
      "metadata": {
        "id": "QEVnFduV50TK"
      }
    },
    {
      "cell_type": "markdown",
      "source": [
        "we went down from 140 to 30 features!\n",
        "and from 2m samples to 1.3m"
      ],
      "metadata": {
        "collapsed": false,
        "id": "C5fbKrw950TK"
      }
    },
    {
      "cell_type": "code",
      "execution_count": null,
      "outputs": [],
      "source": [
        "value_counts = df.label.value_counts()\n",
        "ax = value_counts.plot(kind='bar')\n",
        "plt.xticks(rotation=80)\n",
        "plt.title(\"label\")\n",
        "loan_stats = []\n",
        "for i in ax.patches:\n",
        "    ax.text(i.get_x() + i.get_width()/2, i.get_height(), str(int(i.get_height())), fontsize=10, ha='center', color='black')\n",
        "    loan_stats.append(i.get_height())\n",
        "plt.show()"
      ],
      "metadata": {
        "id": "hAxh1Sd150TL"
      }
    },
    {
      "cell_type": "markdown",
      "source": [
        "let's exemine some more columns.\n",
        "- **grade, sub_grade** Those are alphabetical codes that get a numerical representation as the interest rate. (column 'int_rate'). We will drop them too.\n",
        "- **emp_title** : Although the data has 512694 different job title in it, I don't want to limit our model to only certain job names. also we don't want variance due to different spelling or job description.\n",
        "- **zip_code, addr_state**: Although It's been [proved](https://www.deccanherald.com/content/660237/how-zip-code-can-determine.html) to be a good predictor, I want to keep my model 'humane' this time by giving opportunity to people from every neighborhood.\n",
        "- **policy_code** - all values are 1 in this column. we will drop it."
      ],
      "metadata": {
        "collapsed": false,
        "id": "7AOYQ-Mc50TL"
      }
    },
    {
      "cell_type": "code",
      "execution_count": null,
      "outputs": [],
      "source": [
        "drop_list = ['grade', 'sub_grade','emp_title', 'zip_code', 'addr_state','policy_code']\n",
        "df.drop(columns=drop_list, inplace=True)"
      ],
      "metadata": {
        "id": "POSFNqWa50TL"
      }
    },
    {
      "cell_type": "markdown",
      "source": [
        "Now we will look at each of the data columns and prepare it for our model.\n",
        "we will start with checking which data should be transformed into numerical/ boolean format."
      ],
      "metadata": {
        "collapsed": false,
        "id": "BsGDMmtm50TL"
      }
    },
    {
      "cell_type": "code",
      "execution_count": null,
      "outputs": [],
      "source": [
        "for type in df.dtypes.unique():\n",
        "    print(type)\n",
        "    print(df.columns[df.dtypes == (type)])"
      ],
      "metadata": {
        "id": "6t93QDGP50TL"
      }
    },
    {
      "cell_type": "markdown",
      "source": [
        "we will transform as follows -\n",
        "- term - change into 36 or 60 values\n",
        "- emp_length - we will extract the amount of years. missing values will be filled with 0 assuming the borrower has no job or doesn't wish to share it with us.\n",
        "- home_ownership - there are 6 unique values, we will use one hot unicoding.  fortunately there are no missing values.\n",
        "- verification_status - there are 3 unique values: ['Source Verified' 'Verified' 'Not Verified']. we will check label correlation and decide if we treat both verified as one value and transform to boolean.\n",
        "- Purpose - here there are 14 unique values. we might use one hot unicoding again. we need to further explore the correlation with the labels.\n",
        "- title - this is an extra title that the loan applier adds as description, there are 61681 unique values. it is too specific fot us. the purpose column is enough.\n",
        "- earliest_cr_line - we will extract the amount of years. fortunately there are no missing values.\n",
        "- initial_list_status -  A loan listed as \"forced\" means that the loan was added to the platform due to demand from investors, while a loan listed as \"whole\" was added to the platform as a standard loan listing. This feature gives information on how the loan was introduced to the platform. we will turn it boolean.\n",
        "- application_type - this needs more investigation\n",
        "- disbursement_method - turn into boolean."
      ],
      "metadata": {
        "collapsed": false,
        "id": "mVjz7vri50TL"
      }
    },
    {
      "cell_type": "code",
      "execution_count": null,
      "outputs": [],
      "source": [
        "df.drop(columns='title', inplace= True)\n",
        "df[df.columns[df.dtypes == (object)]].sample(5)"
      ],
      "metadata": {
        "id": "ZynwTkno50TM"
      }
    },
    {
      "cell_type": "markdown",
      "source": [
        "## term , initial_list_status , disbursement_method -> boolean"
      ],
      "metadata": {
        "collapsed": false,
        "id": "_nmz0LjT50TM"
      }
    },
    {
      "cell_type": "code",
      "execution_count": null,
      "outputs": [],
      "source": [
        "#term\n",
        "term_mapping = {df.term.unique()[0]:36,df.term.unique()[1]: 60}\n",
        "df.loc[:,'term'] = df['term'].map(term_mapping)\n",
        "\n",
        "#initial_list_status\n",
        "ils_mapping = {df.initial_list_status.unique()[0]:0,df.initial_list_status.unique()[1]: 1}\n",
        "df.loc[:,'initial_list_status'] = df['initial_list_status'].map(ils_mapping)\n",
        "\n",
        "#disbursement_method\n",
        "disbursement_mapping = {df.disbursement_method.unique()[0]:0 , df.disbursement_method.unique()[1]:1}\n",
        "df.loc[:,'disbursement_method'] = df['disbursement_method'].map(disbursement_mapping)\n"
      ],
      "metadata": {
        "id": "8HIbuN3250TM"
      }
    },
    {
      "cell_type": "markdown",
      "source": [
        "now before we start imputing we will see if there are some rows we should drop;"
      ],
      "metadata": {
        "collapsed": false,
        "id": "SAsAfdMn50TM"
      }
    },
    {
      "cell_type": "code",
      "execution_count": null,
      "outputs": [],
      "source": [
        "missing_values = df.isnull().sum(axis=1)\n",
        "mask_0 = df['label'] == 0\n",
        "mask_1 = df['label'] == 1\n",
        "plt.hist(missing_values[mask_0], bins=range(0,missing_values.max()+1), alpha=0.5, label='Label 0 - fully paid', color='blue')\n",
        "plt.hist(missing_values[mask_1], bins=range(0,missing_values.max()+1), alpha=0.5, label='Label 1 - default', color='red')\n",
        "\n",
        "plt.xlabel('Number of Missing Values')\n",
        "plt.ylabel('Frequency')\n",
        "plt.legend()\n",
        "plt.show()\n"
      ],
      "metadata": {
        "id": "I1xf2_ox50TM"
      }
    },
    {
      "cell_type": "markdown",
      "source": [
        "we will drop all rows with >20 missing values."
      ],
      "metadata": {
        "collapsed": false,
        "id": "H5HuKXBz50TN"
      }
    },
    {
      "cell_type": "code",
      "execution_count": null,
      "outputs": [],
      "source": [
        "df = df[df.isnull().sum(axis=1) <= 20]\n"
      ],
      "metadata": {
        "id": "iZnQgomT50TN"
      }
    },
    {
      "cell_type": "markdown",
      "source": [
        "# emp_length ,earliest_cr_line  -> nmb. of years\n",
        "Possible values are between 0 and 10 where 0 means less than one year and 10 means ten or more years.\n",
        "samples that also have a missing job value will get 0 and others will be filled with the median.\n"
      ],
      "metadata": {
        "collapsed": false,
        "id": "9vIQs8kE50TN"
      }
    },
    {
      "cell_type": "code",
      "execution_count": null,
      "outputs": [],
      "source": [
        "#emp_length - string -> int\n",
        "unique_values = df['emp_length'].unique()\n",
        "values = [5,0.5,10,3,4,1,8,np.nan,6,2,7,9]\n",
        "mapping = {value: i for i, value in zip(values,unique_values)}\n",
        "df.loc[:,'emp_length'] = df['emp_length'].map(mapping)\n",
        "\n",
        "# Get the index of emp_title = NaN and emp_length is NaN and apply 0 to emp_length of those samples.\n",
        "nan_mask = df_copy.emp_title[df.index].isna() * df.emp_length.isna()\n",
        "df.loc[nan_mask, 'emp_length'] = 0\n",
        "\n",
        "# left missing values are imputed with the median:\n",
        "df['emp_length'].fillna(df['emp_length'].median() , inplace = True)\n",
        "\n",
        "#earliest_cr_line - string -> int\n",
        "def crop_year(x):\n",
        "    year = x[-4:]\n",
        "    current_year = datetime.datetime.now().year\n",
        "    year = current_year - int(year)\n",
        "    return year\n",
        "df.loc[:,'earliest_cr_line'] = df.earliest_cr_line.apply(lambda x:crop_year(x))"
      ],
      "metadata": {
        "id": "x6sEluQ050TN"
      }
    },
    {
      "cell_type": "markdown",
      "source": [
        "let's look at the verification status correlation to our label:"
      ],
      "metadata": {
        "collapsed": false,
        "id": "sBSxXK8s50TN"
      }
    },
    {
      "cell_type": "code",
      "execution_count": null,
      "outputs": [],
      "source": [
        "mask_0 = df['label'] == 0\n",
        "mask_1 = df['label'] == 1\n",
        "\n",
        "verification_status_labels = df.verification_status.unique()\n",
        "verification_status_0 = [sum(df.verification_status[mask_0] == i) for i in verification_status_labels]\n",
        "verification_status_1 = [sum(df.verification_status[mask_1] == i) for i in verification_status_labels]\n",
        "\n",
        "fig, ax = plt.subplots()\n",
        "index = np.arange(len(verification_status_labels))\n",
        "bar_width = 0.35\n",
        "\n",
        "bar1 = ax.bar(index, verification_status_0, bar_width, color='blue', alpha=0.5, label='Label 0 - fully paid')\n",
        "bar2 = ax.bar(index + bar_width, verification_status_1, bar_width, color='red', alpha=0.5, label='Label 1 - default')\n",
        "\n",
        "ax.set_xlabel('Verification Status')\n",
        "ax.set_ylabel('Counts')\n",
        "ax.set_xticks(index + bar_width / 2)\n",
        "ax.set_xticklabels(verification_status_labels)\n",
        "ax.legend()\n",
        "\n",
        "def autolabel(bars):\n",
        "    for bar in bars:\n",
        "        height = bar.get_height()\n",
        "        ax.annotate(\"{:.0f}\".format(height),\n",
        "                    xy=(bar.get_x() + bar.get_width() / 2, height),\n",
        "                    xytext=(0, 3),\n",
        "                    textcoords=\"offset points\",\n",
        "                    ha='center', va='bottom')\n",
        "\n",
        "autolabel(bar1)\n",
        "autolabel(bar2)\n",
        "\n",
        "plt.tight_layout()\n",
        "plt.show()\n"
      ],
      "metadata": {
        "id": "jzUSnbCc50TN"
      }
    },
    {
      "cell_type": "markdown",
      "source": [
        "should we transform the feature into boolean by merging source verified and verified or should we use one hot unicoding?\n",
        "- we can see that if a sample is 'source Verified' it has  more chance to be fully paid.\n",
        "we will use one-hot unicoding on this feature.\n",
        "\n",
        "let's do the same for home_ownership, Purpose and application_type:"
      ],
      "metadata": {
        "collapsed": false,
        "id": "zs-kUChO50TO"
      }
    },
    {
      "cell_type": "code",
      "execution_count": null,
      "outputs": [],
      "source": [
        "purpose_labels = df.purpose.unique()\n",
        "purpose_0 = [sum(df.purpose[mask_0] == i) for i in purpose_labels]\n",
        "purpose_1 = [sum(df.purpose[mask_1] == i) for i in purpose_labels]\n",
        "\n",
        "fig, ax = plt.subplots()\n",
        "index = np.arange(len(purpose_labels))\n",
        "bar_width = 0.35\n",
        "\n",
        "bar1 = ax.bar(index, purpose_0, bar_width, color='blue', alpha=0.5, label='Label 0 - fully paid')\n",
        "bar2 = ax.bar(index + bar_width, purpose_1, bar_width, color='red', alpha=0.5, label='Label 1 - default')\n",
        "\n",
        "ax.set_xlabel('Purpose')\n",
        "ax.set_ylabel('Counts')\n",
        "ax.set_xticks(index + bar_width / 2)\n",
        "ax.set_xticklabels(purpose_labels, rotation=90)\n",
        "ax.legend()\n",
        "\n",
        "plt.tight_layout()\n",
        "plt.show()"
      ],
      "metadata": {
        "id": "P9nA1uFb50TO"
      }
    },
    {
      "cell_type": "markdown",
      "source": [
        "we can see that most of the loans are taken in porpuse of debt consolidation. notice we have some values with very low amount of data at the right part of the graph.\n",
        "we are going to turn this feature into one hot unicoding. The values with low amount of samples will get meaningless weight. so we will combine them into one value 'other'.\n"
      ],
      "metadata": {
        "collapsed": false,
        "id": "NJQ7owjC50TO"
      }
    },
    {
      "cell_type": "code",
      "execution_count": null,
      "outputs": [],
      "source": [
        "mask = df.purpose.isin(['house', 'car','home_improvement', 'moving', 'small_business', 'vacation','medical', 'major_purchase', 'renewable_energy', 'wedding','educational'])\n",
        "df.purpose[mask] = 'other'\n",
        "\n",
        "purpose_labels = df.purpose.unique()\n",
        "purpose_0 = [sum(df.purpose[mask_0] == i) for i in purpose_labels]\n",
        "purpose_1 = [sum(df.purpose[mask_1] == i) for i in purpose_labels]\n",
        "\n",
        "fig, ax = plt.subplots()\n",
        "index = np.arange(len(purpose_labels))\n",
        "bar_width = 0.35\n",
        "\n",
        "bar1 = ax.bar(index, purpose_0, bar_width, color='blue', alpha=0.5, label='Label 0 - fully paid')\n",
        "bar2 = ax.bar(index + bar_width, purpose_1, bar_width, color='red', alpha=0.5, label='Label 1 - default')\n",
        "\n",
        "ax.set_xlabel('Purpose')\n",
        "ax.set_ylabel('Counts')\n",
        "ax.set_xticks(index + bar_width / 2)\n",
        "ax.set_xticklabels(purpose_labels, rotation=90)\n",
        "ax.legend()\n",
        "\n",
        "plt.tight_layout()\n",
        "plt.show()"
      ],
      "metadata": {
        "id": "F9U0doHC50TO"
      }
    },
    {
      "cell_type": "markdown",
      "source": [],
      "metadata": {
        "collapsed": false,
        "id": "vyRvEIWp50TP"
      }
    },
    {
      "cell_type": "code",
      "execution_count": null,
      "outputs": [],
      "source": [
        "fig, (ax1, ax2) = plt.subplots(1, 2, figsize=(20, 5))\n",
        "\n",
        "mask_0 = df['label'] == 0\n",
        "mask_1 = df['label'] == 1\n",
        "\n",
        "# Plot for home_ownership feature\n",
        "ax1.hist(df.home_ownership[mask_0], alpha=0.5, label='Label 0 - fully paid', color='blue')\n",
        "ax1.hist(df.home_ownership[mask_1], alpha=0.5, label='Label 1 - default', color='red')\n",
        "ax1.set_xlabel('home_ownership')\n",
        "ax1.set_ylabel('Frequency')\n",
        "ax1.legend()\n",
        "\n",
        "# Plot for application_type feature\n",
        "ax2.hist(df.application_type[mask_0], alpha=0.5, label='Label 0 - fully paid', color='blue')\n",
        "ax2.hist(df.application_type[mask_1], alpha=0.5, label='Label 1 - default', color='red')\n",
        "ax2.set_xlabel('application_type')\n",
        "ax2.set_ylabel('Frequency')\n",
        "ax2.legend()\n",
        "\n",
        "plt.show()\n"
      ],
      "metadata": {
        "id": "ZIgledE350TP"
      }
    },
    {
      "cell_type": "markdown",
      "source": [
        "home_ownership - we will do the same for ANY,NONE and OTHER and combine them into 'OTHER'.\n",
        "on application type - there is a small amount of group applications, in this case I'm not sure whos data is in the dataset and how I should treat that case. we will drop it this time and compromise our data to deal only with lone loan takers."
      ],
      "metadata": {
        "collapsed": false,
        "id": "BnEr8Snx50TP"
      }
    },
    {
      "cell_type": "markdown",
      "source": [],
      "metadata": {
        "collapsed": false,
        "id": "V72E5NeD50TP"
      }
    },
    {
      "cell_type": "code",
      "execution_count": null,
      "outputs": [],
      "source": [
        "mask = df.purpose.isin(['ANY', 'NONE','OTHER'])\n",
        "df.home_ownership[mask] = 'OTHER'\n",
        "\n",
        "df = df[df.application_type != 'Joint App']\n",
        "df.drop(columns='application_type', inplace=True)\n"
      ],
      "metadata": {
        "id": "kO_CodJD50TP"
      }
    },
    {
      "cell_type": "markdown",
      "source": [
        "now lets run the one hot encoding for the two last features 'home_ownership' , 'purpose':\n"
      ],
      "metadata": {
        "collapsed": false,
        "id": "TfsNjIwi50TP"
      }
    },
    {
      "cell_type": "code",
      "execution_count": null,
      "outputs": [],
      "source": [
        "df = pd.get_dummies(df, columns=['purpose','home_ownership', 'verification_status'], prefix=['purpose' , 'home_ownership','verification_status'])"
      ],
      "metadata": {
        "id": "3PKFZdu750TQ"
      }
    },
    {
      "cell_type": "markdown",
      "source": [
        "let's impute some more missing values:"
      ],
      "metadata": {
        "collapsed": false,
        "id": "piMzuB0i50TQ"
      }
    },
    {
      "cell_type": "code",
      "execution_count": null,
      "outputs": [],
      "source": [
        "# Calculate the percentage of Nan values for each feature\n",
        "nan_prec = pd.DataFrame(((df.isna()).sum() / df.shape[0])*100 , columns=['% Nan'])\n",
        "nan_prec['Description'] = [feature_dict.get(nan_prec.index[i]) for i in range(nan_prec.shape[0])]\n",
        "pd.options.display.max_rows = 100\n",
        "nan_prec[nan_prec['% Nan']>0]"
      ],
      "metadata": {
        "id": "zIybMSvZ50TQ"
      }
    },
    {
      "cell_type": "markdown",
      "source": [
        "### i'm sick of data exploration just imputed all and will deal with it later."
      ],
      "metadata": {
        "collapsed": false,
        "id": "YIoRjOhE50TQ"
      }
    },
    {
      "cell_type": "code",
      "execution_count": null,
      "outputs": [],
      "source": [
        "for feature in nan_prec[nan_prec['% Nan']>0].index :\n",
        "    df[feature].fillna(df[feature].median(), inplace=True)\n"
      ],
      "metadata": {
        "id": "rQq7l8g350TQ"
      }
    },
    {
      "cell_type": "markdown",
      "source": [
        "The data is ready! we will save a copy -"
      ],
      "metadata": {
        "collapsed": false,
        "id": "rgtiQuc750TQ"
      }
    },
    {
      "cell_type": "code",
      "execution_count": null,
      "outputs": [],
      "source": [
        "# Save DataFrame to CSV\n",
        "df.to_csv('preprocessed_data.csv', index=True)"
      ],
      "metadata": {
        "id": "S1WIi_7950TQ"
      }
    },
    {
      "cell_type": "markdown",
      "source": [
        "## Building a model"
      ],
      "metadata": {
        "collapsed": false,
        "id": "NVLqWIDL50TR"
      }
    },
    {
      "cell_type": "code",
      "execution_count": null,
      "outputs": [],
      "source": [
        "# Load DataFrame from CSV\n",
        "X = pd.read_csv('preprocessed_data.csv' , index_col= 0)\n",
        "Y = X['label']\n",
        "X.drop(columns='label', inplace=True)\n",
        "\n",
        "x_train, x_test, y_train, y_test = train_test_split(X, Y, test_size=0.2, random_state=0)"
      ],
      "metadata": {
        "id": "j4YIcGEq50TR"
      }
    },
    {
      "cell_type": "markdown",
      "source": [
        "lets check the that split is evenly disturbuted:"
      ],
      "metadata": {
        "collapsed": false,
        "id": "4t95dPAc50TR"
      }
    },
    {
      "cell_type": "code",
      "execution_count": null,
      "outputs": [],
      "source": [
        "fig, axs = plt.subplots(3, 3, figsize=(10,10))\n",
        "ax = axs.ravel()\n",
        "for idx in range(len(ax)):\n",
        "    ax[idx].hist(x_train.iloc[:, idx], density=True, alpha=0.5, label='train')\n",
        "    ax[idx].hist(x_test.iloc[:, idx], density=True, alpha=0.5, label='test')\n",
        "    ax[idx].legend(loc='upper right')\n",
        "    ax[idx].set_xlabel(x_train.columns[idx])\n",
        "plt.show()\n",
        "\n",
        "plt.hist(y_train, density=True, alpha=0.5, label='train')\n",
        "plt.hist(y_test, density=True, alpha=0.5, label='test')\n",
        "plt.legend(loc='upper right')\n",
        "plt.xlabel('label')\n",
        "plt.show()\n",
        "\n",
        "fig, axes = plt.subplots(1, 2, figsize=(15, 5))\n",
        "y_train.value_counts().plot(kind=\"pie\", labels=['Fully paid', 'Default'], autopct='%1.1f%%', ax=axes[0])\n",
        "y_test.value_counts().plot(kind=\"pie\", labels=['Normal', 'Default'], autopct='%1.1f%%', ax=axes[1])\n",
        "axes[0].set(title =\"y_train\")\n",
        "axes[1].set(title =\"y_test\")\n",
        "plt.show()\n"
      ],
      "metadata": {
        "id": "5YFtzwZE50TR"
      }
    },
    {
      "cell_type": "code",
      "execution_count": null,
      "outputs": [],
      "source": [
        "scaler = MinMaxScaler()\n",
        "x_train_scaled = scaler.fit_transform(x_train)\n",
        "x_test_scaled = scaler.transform(x_test)"
      ],
      "metadata": {
        "id": "VOpFFLY450TR"
      }
    },
    {
      "cell_type": "markdown",
      "source": [
        "# SVM"
      ],
      "metadata": {
        "collapsed": false,
        "id": "GT8EAnkf50TS"
      }
    },
    {
      "cell_type": "code",
      "execution_count": null,
      "outputs": [],
      "source": [
        "# define search space\n",
        "params = dict()\n",
        "params['C'] = (1e-6, 100.0, 'log-uniform')\n",
        "params['gamma'] = (1e-6, 100.0, 'log-uniform')\n",
        "params['degree'] = (1,5)\n",
        "params['kernel'] = ['linear', 'poly', 'rbf', 'sigmoid']\n",
        "# define evaluation\n",
        "cv = RepeatedStratifiedKFold(n_splits=10, n_repeats=3, random_state=1)\n",
        "# define the search\n",
        "search = BayesSearchCV(estimator=SVC(), search_spaces=params, n_jobs=-1, cv=cv)\n",
        "# perform the search\n",
        "search.fit(x_train, y_train)\n",
        "# report the best result\n",
        "print(search.best_score_)\n",
        "print(search.best_params_)\n",
        "\n"
      ],
      "metadata": {
        "pycharm": {
          "is_executing": true
        },
        "id": "3Sx6x4XJ50TS"
      }
    },
    {
      "cell_type": "code",
      "execution_count": null,
      "outputs": [],
      "source": [],
      "metadata": {
        "id": "C3Tt1HVX50TS"
      }
    },
    {
      "cell_type": "code",
      "execution_count": null,
      "outputs": [],
      "source": [
        "y_pred_test = search.predict(x_test)\n",
        "y_pred_proba_test = search.predict_proba(x_test)\n",
        "plot_confusion_matrix(search,x_test,y_test, cmap=plt.cm.Blues)\n",
        "plt.grid(False)\n",
        "st1 = stats(y_test, y_pred_test, y_pred_proba_test )\n",
        "print('AUC is {:.4f}. \\nF1 is {:.4f}.  \\nACC is {:.4f}.  '.format(st1[-1],st1[-2],st1[-3]))"
      ],
      "metadata": {
        "id": "1qhA-rS650TS"
      }
    },
    {
      "cell_type": "markdown",
      "source": [
        "## Random forest"
      ],
      "metadata": {
        "id": "UfpIQ_Lx7Wll"
      }
    },
    {
      "cell_type": "code",
      "source": [
        "rfc = RandomForestClassifier(random_state=random_state)\n",
        "params = dict()\n",
        "params['C'] = (1e-6, 100.0, 'log-uniform')\n",
        "params['gamma'] = (1e-6, 100.0, 'log-uniform')\n",
        "params['degree'] = (1,5)\n",
        "params['kernel'] = ['linear', 'poly', 'rbf', 'sigmoid']\n",
        "criterion = ['gini', 'entropy', 'log_loss']\n",
        "\n",
        "max_depth = [3, 5, 6]\n",
        "max_features = [2, 3, 4]\n",
        "pipe3 = Pipeline(steps=[('scale', StandardScaler()), ('rfc', rfc )])\n",
        "RFCCV = GridSearchCV(estimator=pipe3,\n",
        "                   param_grid={'rfc__criterion': criterion, 'rfc__max_depth': max_depth , 'rfc__max_features': max_features},\n",
        "                   scoring=['accuracy', 'f1', 'precision', 'recall', 'roc_auc'],\n",
        "                   cv=skf, refit='roc_auc', verbose=3, return_train_score=True)\n",
        "\n",
        "RFCCV.fit(X_train, (np.array(y_train)).flatten())\n",
        "\n"
      ],
      "metadata": {
        "id": "8R1fzOEd7bcH"
      },
      "execution_count": null,
      "outputs": []
    },
    {
      "cell_type": "code",
      "execution_count": null,
      "outputs": [],
      "source": [
        "# define search space\n",
        "params = dict()\n",
        "params['C'] = (1e-6, 100.0, 'log-uniform')\n",
        "params['gamma'] = (1e-6, 100.0, 'log-uniform')\n",
        "params['degree'] = (1,5)\n",
        "params['kernel'] = ['linear', 'poly', 'rbf', 'sigmoid']\n",
        "\n",
        "# define evaluation\n",
        "cv = RepeatedStratifiedKFold(n_splits=10, n_repeats=3, random_state=1)\n",
        "# define the search\n",
        "search = BayesSearchCV(estimator=SVC(), search_spaces=params, n_jobs=-1, cv=cv)\n",
        "# perform the search\n",
        "search.fit(x_train, y_train)\n",
        "# report the best result\n",
        "print(search.best_score_)\n",
        "print(search.best_params_)\n",
        "\n"
      ],
      "metadata": {
        "pycharm": {
          "is_executing": true
        },
        "id": "IKNcI5Qq7wtJ"
      }
    },
    {
      "cell_type": "code",
      "source": [
        "rfc = RandomForestClassifier(random_state=random_state)\n",
        "params = dict()\n",
        "params['criterion'] = ['gini', 'entropy', 'log_loss']\n",
        "params['gamma'] = (1e-6, 100.0, 'log-uniform')\n",
        "params['degree'] = (1,5)\n",
        "params['kernel'] = ['linear', 'poly', 'rbf', 'sigmoid']\n",
        "params['criterion'] =  = ['gini', 'entropy', 'log_loss']\n",
        "\n",
        "rfc = RandomForestClassifier(random_state=random_state)\n",
        "criterion = \n",
        "max_features = [2, 3, 4]\n",
        "max_depth = [3, 5, 6]\n",
        "max_features = [2, 3, 4]\n",
        "pipe3 = Pipeline(steps=[('scale', StandardScaler()), ('rfc', rfc )])\n",
        "RFCCV = GridSearchCV(estimator=pipe3,\n",
        "                   param_grid={'rfc__criterion': criterion, 'rfc__max_depth': max_depth , 'rfc__max_features': max_features},\n",
        "                   scoring=['accuracy', 'f1', 'precision', 'recall', 'roc_auc'],\n",
        "                   cv=skf, refit='roc_auc', verbose=3, return_train_score=True)\n",
        "\n",
        "RFCCV.fit(X_train, (np.array(y_train)).flatten())\n",
        "\n"
      ],
      "metadata": {
        "id": "zbgKFnLZ75bx"
      },
      "execution_count": null,
      "outputs": []
    }
  ],
  "metadata": {
    "kernelspec": {
      "display_name": "Python 3",
      "language": "python",
      "name": "python3"
    },
    "language_info": {
      "codemirror_mode": {
        "name": "ipython",
        "version": 2
      },
      "file_extension": ".py",
      "mimetype": "text/x-python",
      "name": "python",
      "nbconvert_exporter": "python",
      "pygments_lexer": "ipython2",
      "version": "2.7.6"
    },
    "colab": {
      "provenance": [],
      "toc_visible": true,
      "include_colab_link": true
    }
  },
  "nbformat": 4,
  "nbformat_minor": 0
}